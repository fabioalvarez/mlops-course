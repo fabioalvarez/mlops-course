{
 "cells": [
  {
   "metadata": {},
   "cell_type": "markdown",
   "source": [
    "## House Price Prediction with MlFlow\n",
    "\n",
    "- Run a hyperparameter tuning while training a model.\n",
    "- Log every hyperparameter and metric.\n",
    "- Compare the results of the various runs in the MlFlow UI.\n",
    "- Choose the best run and register it as a model."
   ],
   "id": "96cf6ad6cb4291f8"
  },
  {
   "metadata": {
    "ExecuteTime": {
     "end_time": "2025-04-28T13:25:41.494608Z",
     "start_time": "2025-04-28T13:25:39.525642Z"
    }
   },
   "cell_type": "code",
   "source": [
    "import pandas as pd\n",
    "import mlflow\n",
    "import mlflow.sklearn as sklearn\n",
    "from mlflow.models import infer_signature\n",
    "from sklearn.ensemble import RandomForestRegressor\n",
    "from sklearn.model_selection import train_test_split, GridSearchCV\n",
    "from sklearn.metrics import mean_squared_error\n",
    "from sklearn.datasets import fetch_california_housing\n"
   ],
   "id": "222f6f6cc41cd5c2",
   "outputs": [],
   "execution_count": 1
  },
  {
   "metadata": {
    "ExecuteTime": {
     "end_time": "2025-04-28T13:25:55.427085Z",
     "start_time": "2025-04-28T13:25:55.408051Z"
    }
   },
   "cell_type": "code",
   "source": [
    "housing = fetch_california_housing()\n",
    "housing_df = pd.DataFrame(housing.data, columns=housing.feature_names)\n",
    "housing_df['Price'] = housing.target\n",
    "housing_df.head()"
   ],
   "id": "86e378645714ae06",
   "outputs": [
    {
     "data": {
      "text/plain": [
       "   MedInc  HouseAge  AveRooms  AveBedrms  Population  AveOccup  Latitude  \\\n",
       "0  8.3252      41.0  6.984127   1.023810       322.0  2.555556     37.88   \n",
       "1  8.3014      21.0  6.238137   0.971880      2401.0  2.109842     37.86   \n",
       "2  7.2574      52.0  8.288136   1.073446       496.0  2.802260     37.85   \n",
       "3  5.6431      52.0  5.817352   1.073059       558.0  2.547945     37.85   \n",
       "4  3.8462      52.0  6.281853   1.081081       565.0  2.181467     37.85   \n",
       "\n",
       "   Longitude  Price  \n",
       "0    -122.23  4.526  \n",
       "1    -122.22  3.585  \n",
       "2    -122.24  3.521  \n",
       "3    -122.25  3.413  \n",
       "4    -122.25  3.422  "
      ],
      "text/html": [
       "<div>\n",
       "<style scoped>\n",
       "    .dataframe tbody tr th:only-of-type {\n",
       "        vertical-align: middle;\n",
       "    }\n",
       "\n",
       "    .dataframe tbody tr th {\n",
       "        vertical-align: top;\n",
       "    }\n",
       "\n",
       "    .dataframe thead th {\n",
       "        text-align: right;\n",
       "    }\n",
       "</style>\n",
       "<table border=\"1\" class=\"dataframe\">\n",
       "  <thead>\n",
       "    <tr style=\"text-align: right;\">\n",
       "      <th></th>\n",
       "      <th>MedInc</th>\n",
       "      <th>HouseAge</th>\n",
       "      <th>AveRooms</th>\n",
       "      <th>AveBedrms</th>\n",
       "      <th>Population</th>\n",
       "      <th>AveOccup</th>\n",
       "      <th>Latitude</th>\n",
       "      <th>Longitude</th>\n",
       "      <th>Price</th>\n",
       "    </tr>\n",
       "  </thead>\n",
       "  <tbody>\n",
       "    <tr>\n",
       "      <th>0</th>\n",
       "      <td>8.3252</td>\n",
       "      <td>41.0</td>\n",
       "      <td>6.984127</td>\n",
       "      <td>1.023810</td>\n",
       "      <td>322.0</td>\n",
       "      <td>2.555556</td>\n",
       "      <td>37.88</td>\n",
       "      <td>-122.23</td>\n",
       "      <td>4.526</td>\n",
       "    </tr>\n",
       "    <tr>\n",
       "      <th>1</th>\n",
       "      <td>8.3014</td>\n",
       "      <td>21.0</td>\n",
       "      <td>6.238137</td>\n",
       "      <td>0.971880</td>\n",
       "      <td>2401.0</td>\n",
       "      <td>2.109842</td>\n",
       "      <td>37.86</td>\n",
       "      <td>-122.22</td>\n",
       "      <td>3.585</td>\n",
       "    </tr>\n",
       "    <tr>\n",
       "      <th>2</th>\n",
       "      <td>7.2574</td>\n",
       "      <td>52.0</td>\n",
       "      <td>8.288136</td>\n",
       "      <td>1.073446</td>\n",
       "      <td>496.0</td>\n",
       "      <td>2.802260</td>\n",
       "      <td>37.85</td>\n",
       "      <td>-122.24</td>\n",
       "      <td>3.521</td>\n",
       "    </tr>\n",
       "    <tr>\n",
       "      <th>3</th>\n",
       "      <td>5.6431</td>\n",
       "      <td>52.0</td>\n",
       "      <td>5.817352</td>\n",
       "      <td>1.073059</td>\n",
       "      <td>558.0</td>\n",
       "      <td>2.547945</td>\n",
       "      <td>37.85</td>\n",
       "      <td>-122.25</td>\n",
       "      <td>3.413</td>\n",
       "    </tr>\n",
       "    <tr>\n",
       "      <th>4</th>\n",
       "      <td>3.8462</td>\n",
       "      <td>52.0</td>\n",
       "      <td>6.281853</td>\n",
       "      <td>1.081081</td>\n",
       "      <td>565.0</td>\n",
       "      <td>2.181467</td>\n",
       "      <td>37.85</td>\n",
       "      <td>-122.25</td>\n",
       "      <td>3.422</td>\n",
       "    </tr>\n",
       "  </tbody>\n",
       "</table>\n",
       "</div>"
      ]
     },
     "execution_count": 2,
     "metadata": {},
     "output_type": "execute_result"
    }
   ],
   "execution_count": 2
  },
  {
   "metadata": {
    "ExecuteTime": {
     "end_time": "2025-04-28T13:25:56.657101Z",
     "start_time": "2025-04-28T13:25:56.571045Z"
    }
   },
   "cell_type": "code",
   "source": [
    "from urllib.parse import urlparse\n",
    "\n",
    "# Split data\n",
    "X = housing_df.drop(columns=['Price'])\n",
    "y = housing_df['Price']\n",
    "\n",
    "# Split data into training and test sets\n",
    "X_train, X_test, y_train, y_test = train_test_split(X, y, test_size=0.2, random_state=42)\n",
    "\n",
    "# Get signature\n",
    "signature = infer_signature(X_train, y_train)\n",
    "\n",
    "# Define the hyperparameter grid\n",
    "param_grid = {\n",
    "    'n_estimators': [100, 200],\n",
    "    'max_depth': [5, 10, None],\n",
    "    'min_samples_split': [2, 5],\n",
    "    'min_samples_leaf': [1, 2],\n",
    "}"
   ],
   "id": "2b618ef33f81f1af",
   "outputs": [],
   "execution_count": 3
  },
  {
   "metadata": {},
   "cell_type": "code",
   "outputs": [],
   "execution_count": null,
   "source": [
    "# Hyperparameter tuning using GridSearchCV\n",
    "def hyperparameter_tuning(x_train, y_train):\n",
    "    \"\"\"\n",
    "    Perform hyperparameter tuning using GridSearchCV.\n",
    "    :param x_train:\n",
    "    :param y_train:\n",
    "    :return: grid_search object\n",
    "    \"\"\"\n",
    "    grid_search = GridSearchCV(\n",
    "        estimator=RandomForestRegressor(random_state=42),\n",
    "        param_grid=param_grid,\n",
    "        scoring='neg_mean_squared_error',\n",
    "        cv=3,\n",
    "        verbose=2,\n",
    "        n_jobs=-1\n",
    "    )\n",
    "    grid_search.fit(x_train, y_train)\n",
    "    return grid_search"
   ],
   "id": "2ad1d7ba849edd10"
  },
  {
   "metadata": {},
   "cell_type": "markdown",
   "source": [
    "\"Fitting 3 folds for each of 24 candidates, totalling 72 fits\"\n",
    "\n",
    "This message is generated by GridSearchCV from scikit-learn during hyperparameter tuning. Here's what it means:\n",
    "\n",
    "3 folds: The data is being split into 3 parts (folds) for cross-validation. Each fold is used as a validation set once, while the remaining folds are used for training.\n",
    "\n",
    "24 candidates: The hyperparameter grid contains 24 combinations of hyperparameter values to test. This is determined by the param_grid you defined.\n",
    "\n",
    "72 fits: Since there are 24 combinations of hyperparameters and 3 folds for cross-validation, the total number of model fits is ( 24 \\times 3 = 72 ).\n",
    "\n",
    "This process ensures that each hyperparameter combination is evaluated thoroughly using cross-validation."
   ],
   "id": "f725c9423c3a84b4"
  },
  {
   "metadata": {
    "ExecuteTime": {
     "end_time": "2025-04-28T13:40:01.039657Z",
     "start_time": "2025-04-28T13:38:50.486326Z"
    }
   },
   "cell_type": "code",
   "source": [
    "mlflow.set_experiment(\"House Pricing\")\n",
    "\n",
    "with mlflow.start_run():\n",
    "    # Perform hyperparameter tuning\n",
    "    grid_search = hyperparameter_tuning(X_train, y_train)\n",
    "    best_model = grid_search.best_estimator_\n",
    "\n",
    "    # Evaluate the model\n",
    "    y_pred = best_model.predict(X_test)\n",
    "    mse = mean_squared_error(y_test, y_pred)\n",
    "\n",
    "    # Log parameters and metrics\n",
    "    best_params = grid_search.best_params_\n",
    "    best_score = grid_search.best_score_\n",
    "    mlflow.log_params(best_params)\n",
    "    mlflow.log_metric(\"best_score\", -best_score)\n",
    "    mlflow.log_metric(\"mse\", mse)\n",
    "\n",
    "    # Tracking url\n",
    "    mlflow.set_tracking_uri(\"http://127.0.0.1:5000\")\n",
    "    tracking_url_type_store = urlparse(mlflow.get_tracking_uri()).scheme\n",
    "\n",
    "    # Log the model\n",
    "    if tracking_url_type_store != \"file\":\n",
    "        mlflow.sklearn.log_model(\n",
    "            sk_model=best_model,\n",
    "            artifact_path=\"house_price_model\",\n",
    "            signature=signature,\n",
    "            input_example=X_train[:5],                     # Optional: Example input for the model\n",
    "            registered_model_name=\"House_Price_Predictor\"  # Optional: Name for the registered model\n",
    "        )\n",
    "    else:\n",
    "        mlflow.sklearn.log_model(\n",
    "            sk_model=best_model,\n",
    "            artifact_path=\"house_price_model\",\n",
    "            signature=signature,\n",
    "            input_example=X_train[:5],  # Optional: Example input for the model\n",
    "        )"
   ],
   "id": "36d0319e1c8cad22",
   "outputs": [
    {
     "name": "stderr",
     "output_type": "stream",
     "text": [
      "2025/04/28 08:38:50 INFO mlflow.tracking.fluent: Experiment with name 'House Pricing' does not exist. Creating a new experiment.\n"
     ]
    },
    {
     "name": "stdout",
     "output_type": "stream",
     "text": [
      "Fitting 3 folds for each of 24 candidates, totalling 72 fits\n"
     ]
    },
    {
     "name": "stderr",
     "output_type": "stream",
     "text": [
      "Successfully registered model 'House_Price_Predictor'.\n",
      "2025/04/28 08:40:01 INFO mlflow.store.model_registry.abstract_store: Waiting up to 300 seconds for model version to finish creation. Model name: House_Price_Predictor, version 1\n"
     ]
    },
    {
     "name": "stdout",
     "output_type": "stream",
     "text": [
      "🏃 View run funny-mare-675 at: http://127.0.0.1:5000/#/experiments/586088074569693845/runs/ceb6d869c102460a8721c972e659ebbd\n",
      "🧪 View experiment at: http://127.0.0.1:5000/#/experiments/586088074569693845\n"
     ]
    },
    {
     "name": "stderr",
     "output_type": "stream",
     "text": [
      "Created version '1' of model 'House_Price_Predictor'.\n"
     ]
    }
   ],
   "execution_count": 7
  },
  {
   "metadata": {},
   "cell_type": "code",
   "outputs": [],
   "execution_count": null,
   "source": "",
   "id": "41dd5dba834d8733"
  }
 ],
 "metadata": {
  "kernelspec": {
   "display_name": "Python 3",
   "language": "python",
   "name": "python3"
  },
  "language_info": {
   "codemirror_mode": {
    "name": "ipython",
    "version": 2
   },
   "file_extension": ".py",
   "mimetype": "text/x-python",
   "name": "python",
   "nbconvert_exporter": "python",
   "pygments_lexer": "ipython2",
   "version": "2.7.6"
  }
 },
 "nbformat": 4,
 "nbformat_minor": 5
}
