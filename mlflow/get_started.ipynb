{
 "cells": [
  {
   "cell_type": "code",
   "execution_count": null,
   "id": "initial_id",
   "metadata": {
    "collapsed": true
   },
   "outputs": [],
   "source": [
    "# Ml Flow tracking serving\n",
    "# We need to track each experiment"
   ]
  },
  {
   "metadata": {
    "ExecuteTime": {
     "end_time": "2025-04-25T13:07:22.306532Z",
     "start_time": "2025-04-25T13:07:22.302176Z"
    }
   },
   "cell_type": "code",
   "source": "import mlflow",
   "id": "b5d395476af096a9",
   "outputs": [],
   "execution_count": 2
  },
  {
   "metadata": {
    "ExecuteTime": {
     "end_time": "2025-04-24T12:50:53.208423Z",
     "start_time": "2025-04-24T12:50:53.205058Z"
    }
   },
   "cell_type": "code",
   "source": [
    "# set_tracking_uri is a function in the mlflow library that sets the tracking URI for the MLflow tracking server. The tracking URI specifies the location where MLflow logs and stores experiment data, such as metrics, parameters, and artifacts.\n",
    "\n",
    "# Key Points:\n",
    "# Purpose: It tells MLflow where to send tracking data (e.g., a local directory, a remote server, or a database).\n",
    "# Usage: It can be set to a local file path, a remote HTTP/HTTPS server, or other supported backends.\n",
    "# Effect: Once set, all subsequent MLflow operations (e.g., logging metrics or parameters) will use this URI.\n",
    "mlflow.set_tracking_uri(\"http://127.0.0.1:5000\")"
   ],
   "id": "7d0ae931d869b88",
   "outputs": [],
   "execution_count": 2
  },
  {
   "metadata": {
    "ExecuteTime": {
     "end_time": "2025-04-24T12:51:01.514982Z",
     "start_time": "2025-04-24T12:51:01.470462Z"
    }
   },
   "cell_type": "code",
   "source": "mlflow.set_experiment(\"Check local host connection\")",
   "id": "4e0142251e6b4b07",
   "outputs": [
    {
     "name": "stderr",
     "output_type": "stream",
     "text": [
      "2025/04/24 07:51:01 INFO mlflow.tracking.fluent: Experiment with name 'Check local host connection' does not exist. Creating a new experiment.\n"
     ]
    },
    {
     "data": {
      "text/plain": [
       "<Experiment: artifact_location='mlflow-artifacts:/420909352545057414', creation_time=1745499061506, experiment_id='420909352545057414', last_update_time=1745499061506, lifecycle_stage='active', name='Check local host connection', tags={}>"
      ]
     },
     "execution_count": 3,
     "metadata": {},
     "output_type": "execute_result"
    }
   ],
   "execution_count": 3
  },
  {
   "metadata": {
    "ExecuteTime": {
     "end_time": "2025-04-24T12:56:00.316041Z",
     "start_time": "2025-04-24T12:56:00.280045Z"
    }
   },
   "cell_type": "code",
   "source": [
    "with mlflow.start_run():\n",
    "    mlflow.log_metric(\"test\", 1)\n",
    "    mlflow.log_metric(\"fabio\", 2)"
   ],
   "id": "de53ef21999732a9",
   "outputs": [
    {
     "name": "stdout",
     "output_type": "stream",
     "text": [
      "🏃 View run bedecked-ram-327 at: http://127.0.0.1:5000/#/experiments/420909352545057414/runs/44c31f9c68164f9699b073adb781d4a5\n",
      "🧪 View experiment at: http://127.0.0.1:5000/#/experiments/420909352545057414\n"
     ]
    }
   ],
   "execution_count": 5
  },
  {
   "metadata": {
    "ExecuteTime": {
     "end_time": "2025-04-25T13:07:34.390931Z",
     "start_time": "2025-04-25T13:07:32.428820Z"
    }
   },
   "cell_type": "code",
   "source": [
    "# Experiment tracking example\n",
    "import mlflow\n",
    "from mlflow.models import infer_signature\n",
    "import pandas as pd\n",
    "from sklearn import datasets\n",
    "from sklearn.linear_model import LogisticRegression\n",
    "from sklearn.model_selection import train_test_split\n",
    "from sklearn.metrics import accuracy_score"
   ],
   "id": "1ae4238e0c07edbb",
   "outputs": [],
   "execution_count": 3
  },
  {
   "metadata": {
    "ExecuteTime": {
     "end_time": "2025-04-25T13:07:35.116738Z",
     "start_time": "2025-04-25T13:07:35.113545Z"
    }
   },
   "cell_type": "code",
   "source": "mlflow.set_tracking_uri(\"http://127.0.0.1:5000\")",
   "id": "9e39ebc1f8291f19",
   "outputs": [],
   "execution_count": 4
  },
  {
   "metadata": {
    "ExecuteTime": {
     "end_time": "2025-04-25T13:07:36.295921Z",
     "start_time": "2025-04-25T13:07:36.290115Z"
    }
   },
   "cell_type": "code",
   "source": [
    "# Load the iris dataset\n",
    "x,y = datasets.load_iris(return_X_y=True)"
   ],
   "id": "ab2bb677762b439c",
   "outputs": [],
   "execution_count": 5
  },
  {
   "metadata": {
    "ExecuteTime": {
     "end_time": "2025-04-25T13:07:36.981200Z",
     "start_time": "2025-04-25T13:07:36.978110Z"
    }
   },
   "cell_type": "code",
   "source": "x_train, x_test, y_train, y_test = train_test_split(x, y, test_size=0.2, random_state=42)",
   "id": "9487e55cf5221403",
   "outputs": [],
   "execution_count": 6
  },
  {
   "metadata": {
    "ExecuteTime": {
     "end_time": "2025-04-25T13:07:39.059851Z",
     "start_time": "2025-04-25T13:07:38.945141Z"
    }
   },
   "cell_type": "code",
   "source": [
    "# Define the model hyperparameters\n",
    "params = {\"penalty\": \"l2\", \"solver\": \"lbfgs\", \"max_iter\": 1000, \"multi_class\": \"auto\", \"random_state\": 42}\n",
    "\n",
    "# Train the model\n",
    "model = LogisticRegression(**params)\n",
    "model.fit(x_train, y_train)"
   ],
   "id": "858c6f693d9db714",
   "outputs": [
    {
     "name": "stderr",
     "output_type": "stream",
     "text": [
      "/opt/miniconda3/envs/mlops/lib/python3.12/site-packages/sklearn/linear_model/_logistic.py:1247: FutureWarning: 'multi_class' was deprecated in version 1.5 and will be removed in 1.7. From then on, it will always use 'multinomial'. Leave it to its default value to avoid this warning.\n",
      "  warnings.warn(\n"
     ]
    },
    {
     "data": {
      "text/plain": [
       "LogisticRegression(max_iter=1000, multi_class='auto', random_state=42)"
      ],
      "text/html": [
       "<style>#sk-container-id-1 {\n",
       "  /* Definition of color scheme common for light and dark mode */\n",
       "  --sklearn-color-text: #000;\n",
       "  --sklearn-color-text-muted: #666;\n",
       "  --sklearn-color-line: gray;\n",
       "  /* Definition of color scheme for unfitted estimators */\n",
       "  --sklearn-color-unfitted-level-0: #fff5e6;\n",
       "  --sklearn-color-unfitted-level-1: #f6e4d2;\n",
       "  --sklearn-color-unfitted-level-2: #ffe0b3;\n",
       "  --sklearn-color-unfitted-level-3: chocolate;\n",
       "  /* Definition of color scheme for fitted estimators */\n",
       "  --sklearn-color-fitted-level-0: #f0f8ff;\n",
       "  --sklearn-color-fitted-level-1: #d4ebff;\n",
       "  --sklearn-color-fitted-level-2: #b3dbfd;\n",
       "  --sklearn-color-fitted-level-3: cornflowerblue;\n",
       "\n",
       "  /* Specific color for light theme */\n",
       "  --sklearn-color-text-on-default-background: var(--sg-text-color, var(--theme-code-foreground, var(--jp-content-font-color1, black)));\n",
       "  --sklearn-color-background: var(--sg-background-color, var(--theme-background, var(--jp-layout-color0, white)));\n",
       "  --sklearn-color-border-box: var(--sg-text-color, var(--theme-code-foreground, var(--jp-content-font-color1, black)));\n",
       "  --sklearn-color-icon: #696969;\n",
       "\n",
       "  @media (prefers-color-scheme: dark) {\n",
       "    /* Redefinition of color scheme for dark theme */\n",
       "    --sklearn-color-text-on-default-background: var(--sg-text-color, var(--theme-code-foreground, var(--jp-content-font-color1, white)));\n",
       "    --sklearn-color-background: var(--sg-background-color, var(--theme-background, var(--jp-layout-color0, #111)));\n",
       "    --sklearn-color-border-box: var(--sg-text-color, var(--theme-code-foreground, var(--jp-content-font-color1, white)));\n",
       "    --sklearn-color-icon: #878787;\n",
       "  }\n",
       "}\n",
       "\n",
       "#sk-container-id-1 {\n",
       "  color: var(--sklearn-color-text);\n",
       "}\n",
       "\n",
       "#sk-container-id-1 pre {\n",
       "  padding: 0;\n",
       "}\n",
       "\n",
       "#sk-container-id-1 input.sk-hidden--visually {\n",
       "  border: 0;\n",
       "  clip: rect(1px 1px 1px 1px);\n",
       "  clip: rect(1px, 1px, 1px, 1px);\n",
       "  height: 1px;\n",
       "  margin: -1px;\n",
       "  overflow: hidden;\n",
       "  padding: 0;\n",
       "  position: absolute;\n",
       "  width: 1px;\n",
       "}\n",
       "\n",
       "#sk-container-id-1 div.sk-dashed-wrapped {\n",
       "  border: 1px dashed var(--sklearn-color-line);\n",
       "  margin: 0 0.4em 0.5em 0.4em;\n",
       "  box-sizing: border-box;\n",
       "  padding-bottom: 0.4em;\n",
       "  background-color: var(--sklearn-color-background);\n",
       "}\n",
       "\n",
       "#sk-container-id-1 div.sk-container {\n",
       "  /* jupyter's `normalize.less` sets `[hidden] { display: none; }`\n",
       "     but bootstrap.min.css set `[hidden] { display: none !important; }`\n",
       "     so we also need the `!important` here to be able to override the\n",
       "     default hidden behavior on the sphinx rendered scikit-learn.org.\n",
       "     See: https://github.com/scikit-learn/scikit-learn/issues/21755 */\n",
       "  display: inline-block !important;\n",
       "  position: relative;\n",
       "}\n",
       "\n",
       "#sk-container-id-1 div.sk-text-repr-fallback {\n",
       "  display: none;\n",
       "}\n",
       "\n",
       "div.sk-parallel-item,\n",
       "div.sk-serial,\n",
       "div.sk-item {\n",
       "  /* draw centered vertical line to link estimators */\n",
       "  background-image: linear-gradient(var(--sklearn-color-text-on-default-background), var(--sklearn-color-text-on-default-background));\n",
       "  background-size: 2px 100%;\n",
       "  background-repeat: no-repeat;\n",
       "  background-position: center center;\n",
       "}\n",
       "\n",
       "/* Parallel-specific style estimator block */\n",
       "\n",
       "#sk-container-id-1 div.sk-parallel-item::after {\n",
       "  content: \"\";\n",
       "  width: 100%;\n",
       "  border-bottom: 2px solid var(--sklearn-color-text-on-default-background);\n",
       "  flex-grow: 1;\n",
       "}\n",
       "\n",
       "#sk-container-id-1 div.sk-parallel {\n",
       "  display: flex;\n",
       "  align-items: stretch;\n",
       "  justify-content: center;\n",
       "  background-color: var(--sklearn-color-background);\n",
       "  position: relative;\n",
       "}\n",
       "\n",
       "#sk-container-id-1 div.sk-parallel-item {\n",
       "  display: flex;\n",
       "  flex-direction: column;\n",
       "}\n",
       "\n",
       "#sk-container-id-1 div.sk-parallel-item:first-child::after {\n",
       "  align-self: flex-end;\n",
       "  width: 50%;\n",
       "}\n",
       "\n",
       "#sk-container-id-1 div.sk-parallel-item:last-child::after {\n",
       "  align-self: flex-start;\n",
       "  width: 50%;\n",
       "}\n",
       "\n",
       "#sk-container-id-1 div.sk-parallel-item:only-child::after {\n",
       "  width: 0;\n",
       "}\n",
       "\n",
       "/* Serial-specific style estimator block */\n",
       "\n",
       "#sk-container-id-1 div.sk-serial {\n",
       "  display: flex;\n",
       "  flex-direction: column;\n",
       "  align-items: center;\n",
       "  background-color: var(--sklearn-color-background);\n",
       "  padding-right: 1em;\n",
       "  padding-left: 1em;\n",
       "}\n",
       "\n",
       "\n",
       "/* Toggleable style: style used for estimator/Pipeline/ColumnTransformer box that is\n",
       "clickable and can be expanded/collapsed.\n",
       "- Pipeline and ColumnTransformer use this feature and define the default style\n",
       "- Estimators will overwrite some part of the style using the `sk-estimator` class\n",
       "*/\n",
       "\n",
       "/* Pipeline and ColumnTransformer style (default) */\n",
       "\n",
       "#sk-container-id-1 div.sk-toggleable {\n",
       "  /* Default theme specific background. It is overwritten whether we have a\n",
       "  specific estimator or a Pipeline/ColumnTransformer */\n",
       "  background-color: var(--sklearn-color-background);\n",
       "}\n",
       "\n",
       "/* Toggleable label */\n",
       "#sk-container-id-1 label.sk-toggleable__label {\n",
       "  cursor: pointer;\n",
       "  display: flex;\n",
       "  width: 100%;\n",
       "  margin-bottom: 0;\n",
       "  padding: 0.5em;\n",
       "  box-sizing: border-box;\n",
       "  text-align: center;\n",
       "  align-items: start;\n",
       "  justify-content: space-between;\n",
       "  gap: 0.5em;\n",
       "}\n",
       "\n",
       "#sk-container-id-1 label.sk-toggleable__label .caption {\n",
       "  font-size: 0.6rem;\n",
       "  font-weight: lighter;\n",
       "  color: var(--sklearn-color-text-muted);\n",
       "}\n",
       "\n",
       "#sk-container-id-1 label.sk-toggleable__label-arrow:before {\n",
       "  /* Arrow on the left of the label */\n",
       "  content: \"▸\";\n",
       "  float: left;\n",
       "  margin-right: 0.25em;\n",
       "  color: var(--sklearn-color-icon);\n",
       "}\n",
       "\n",
       "#sk-container-id-1 label.sk-toggleable__label-arrow:hover:before {\n",
       "  color: var(--sklearn-color-text);\n",
       "}\n",
       "\n",
       "/* Toggleable content - dropdown */\n",
       "\n",
       "#sk-container-id-1 div.sk-toggleable__content {\n",
       "  max-height: 0;\n",
       "  max-width: 0;\n",
       "  overflow: hidden;\n",
       "  text-align: left;\n",
       "  /* unfitted */\n",
       "  background-color: var(--sklearn-color-unfitted-level-0);\n",
       "}\n",
       "\n",
       "#sk-container-id-1 div.sk-toggleable__content.fitted {\n",
       "  /* fitted */\n",
       "  background-color: var(--sklearn-color-fitted-level-0);\n",
       "}\n",
       "\n",
       "#sk-container-id-1 div.sk-toggleable__content pre {\n",
       "  margin: 0.2em;\n",
       "  border-radius: 0.25em;\n",
       "  color: var(--sklearn-color-text);\n",
       "  /* unfitted */\n",
       "  background-color: var(--sklearn-color-unfitted-level-0);\n",
       "}\n",
       "\n",
       "#sk-container-id-1 div.sk-toggleable__content.fitted pre {\n",
       "  /* unfitted */\n",
       "  background-color: var(--sklearn-color-fitted-level-0);\n",
       "}\n",
       "\n",
       "#sk-container-id-1 input.sk-toggleable__control:checked~div.sk-toggleable__content {\n",
       "  /* Expand drop-down */\n",
       "  max-height: 200px;\n",
       "  max-width: 100%;\n",
       "  overflow: auto;\n",
       "}\n",
       "\n",
       "#sk-container-id-1 input.sk-toggleable__control:checked~label.sk-toggleable__label-arrow:before {\n",
       "  content: \"▾\";\n",
       "}\n",
       "\n",
       "/* Pipeline/ColumnTransformer-specific style */\n",
       "\n",
       "#sk-container-id-1 div.sk-label input.sk-toggleable__control:checked~label.sk-toggleable__label {\n",
       "  color: var(--sklearn-color-text);\n",
       "  background-color: var(--sklearn-color-unfitted-level-2);\n",
       "}\n",
       "\n",
       "#sk-container-id-1 div.sk-label.fitted input.sk-toggleable__control:checked~label.sk-toggleable__label {\n",
       "  background-color: var(--sklearn-color-fitted-level-2);\n",
       "}\n",
       "\n",
       "/* Estimator-specific style */\n",
       "\n",
       "/* Colorize estimator box */\n",
       "#sk-container-id-1 div.sk-estimator input.sk-toggleable__control:checked~label.sk-toggleable__label {\n",
       "  /* unfitted */\n",
       "  background-color: var(--sklearn-color-unfitted-level-2);\n",
       "}\n",
       "\n",
       "#sk-container-id-1 div.sk-estimator.fitted input.sk-toggleable__control:checked~label.sk-toggleable__label {\n",
       "  /* fitted */\n",
       "  background-color: var(--sklearn-color-fitted-level-2);\n",
       "}\n",
       "\n",
       "#sk-container-id-1 div.sk-label label.sk-toggleable__label,\n",
       "#sk-container-id-1 div.sk-label label {\n",
       "  /* The background is the default theme color */\n",
       "  color: var(--sklearn-color-text-on-default-background);\n",
       "}\n",
       "\n",
       "/* On hover, darken the color of the background */\n",
       "#sk-container-id-1 div.sk-label:hover label.sk-toggleable__label {\n",
       "  color: var(--sklearn-color-text);\n",
       "  background-color: var(--sklearn-color-unfitted-level-2);\n",
       "}\n",
       "\n",
       "/* Label box, darken color on hover, fitted */\n",
       "#sk-container-id-1 div.sk-label.fitted:hover label.sk-toggleable__label.fitted {\n",
       "  color: var(--sklearn-color-text);\n",
       "  background-color: var(--sklearn-color-fitted-level-2);\n",
       "}\n",
       "\n",
       "/* Estimator label */\n",
       "\n",
       "#sk-container-id-1 div.sk-label label {\n",
       "  font-family: monospace;\n",
       "  font-weight: bold;\n",
       "  display: inline-block;\n",
       "  line-height: 1.2em;\n",
       "}\n",
       "\n",
       "#sk-container-id-1 div.sk-label-container {\n",
       "  text-align: center;\n",
       "}\n",
       "\n",
       "/* Estimator-specific */\n",
       "#sk-container-id-1 div.sk-estimator {\n",
       "  font-family: monospace;\n",
       "  border: 1px dotted var(--sklearn-color-border-box);\n",
       "  border-radius: 0.25em;\n",
       "  box-sizing: border-box;\n",
       "  margin-bottom: 0.5em;\n",
       "  /* unfitted */\n",
       "  background-color: var(--sklearn-color-unfitted-level-0);\n",
       "}\n",
       "\n",
       "#sk-container-id-1 div.sk-estimator.fitted {\n",
       "  /* fitted */\n",
       "  background-color: var(--sklearn-color-fitted-level-0);\n",
       "}\n",
       "\n",
       "/* on hover */\n",
       "#sk-container-id-1 div.sk-estimator:hover {\n",
       "  /* unfitted */\n",
       "  background-color: var(--sklearn-color-unfitted-level-2);\n",
       "}\n",
       "\n",
       "#sk-container-id-1 div.sk-estimator.fitted:hover {\n",
       "  /* fitted */\n",
       "  background-color: var(--sklearn-color-fitted-level-2);\n",
       "}\n",
       "\n",
       "/* Specification for estimator info (e.g. \"i\" and \"?\") */\n",
       "\n",
       "/* Common style for \"i\" and \"?\" */\n",
       "\n",
       ".sk-estimator-doc-link,\n",
       "a:link.sk-estimator-doc-link,\n",
       "a:visited.sk-estimator-doc-link {\n",
       "  float: right;\n",
       "  font-size: smaller;\n",
       "  line-height: 1em;\n",
       "  font-family: monospace;\n",
       "  background-color: var(--sklearn-color-background);\n",
       "  border-radius: 1em;\n",
       "  height: 1em;\n",
       "  width: 1em;\n",
       "  text-decoration: none !important;\n",
       "  margin-left: 0.5em;\n",
       "  text-align: center;\n",
       "  /* unfitted */\n",
       "  border: var(--sklearn-color-unfitted-level-1) 1pt solid;\n",
       "  color: var(--sklearn-color-unfitted-level-1);\n",
       "}\n",
       "\n",
       ".sk-estimator-doc-link.fitted,\n",
       "a:link.sk-estimator-doc-link.fitted,\n",
       "a:visited.sk-estimator-doc-link.fitted {\n",
       "  /* fitted */\n",
       "  border: var(--sklearn-color-fitted-level-1) 1pt solid;\n",
       "  color: var(--sklearn-color-fitted-level-1);\n",
       "}\n",
       "\n",
       "/* On hover */\n",
       "div.sk-estimator:hover .sk-estimator-doc-link:hover,\n",
       ".sk-estimator-doc-link:hover,\n",
       "div.sk-label-container:hover .sk-estimator-doc-link:hover,\n",
       ".sk-estimator-doc-link:hover {\n",
       "  /* unfitted */\n",
       "  background-color: var(--sklearn-color-unfitted-level-3);\n",
       "  color: var(--sklearn-color-background);\n",
       "  text-decoration: none;\n",
       "}\n",
       "\n",
       "div.sk-estimator.fitted:hover .sk-estimator-doc-link.fitted:hover,\n",
       ".sk-estimator-doc-link.fitted:hover,\n",
       "div.sk-label-container:hover .sk-estimator-doc-link.fitted:hover,\n",
       ".sk-estimator-doc-link.fitted:hover {\n",
       "  /* fitted */\n",
       "  background-color: var(--sklearn-color-fitted-level-3);\n",
       "  color: var(--sklearn-color-background);\n",
       "  text-decoration: none;\n",
       "}\n",
       "\n",
       "/* Span, style for the box shown on hovering the info icon */\n",
       ".sk-estimator-doc-link span {\n",
       "  display: none;\n",
       "  z-index: 9999;\n",
       "  position: relative;\n",
       "  font-weight: normal;\n",
       "  right: .2ex;\n",
       "  padding: .5ex;\n",
       "  margin: .5ex;\n",
       "  width: min-content;\n",
       "  min-width: 20ex;\n",
       "  max-width: 50ex;\n",
       "  color: var(--sklearn-color-text);\n",
       "  box-shadow: 2pt 2pt 4pt #999;\n",
       "  /* unfitted */\n",
       "  background: var(--sklearn-color-unfitted-level-0);\n",
       "  border: .5pt solid var(--sklearn-color-unfitted-level-3);\n",
       "}\n",
       "\n",
       ".sk-estimator-doc-link.fitted span {\n",
       "  /* fitted */\n",
       "  background: var(--sklearn-color-fitted-level-0);\n",
       "  border: var(--sklearn-color-fitted-level-3);\n",
       "}\n",
       "\n",
       ".sk-estimator-doc-link:hover span {\n",
       "  display: block;\n",
       "}\n",
       "\n",
       "/* \"?\"-specific style due to the `<a>` HTML tag */\n",
       "\n",
       "#sk-container-id-1 a.estimator_doc_link {\n",
       "  float: right;\n",
       "  font-size: 1rem;\n",
       "  line-height: 1em;\n",
       "  font-family: monospace;\n",
       "  background-color: var(--sklearn-color-background);\n",
       "  border-radius: 1rem;\n",
       "  height: 1rem;\n",
       "  width: 1rem;\n",
       "  text-decoration: none;\n",
       "  /* unfitted */\n",
       "  color: var(--sklearn-color-unfitted-level-1);\n",
       "  border: var(--sklearn-color-unfitted-level-1) 1pt solid;\n",
       "}\n",
       "\n",
       "#sk-container-id-1 a.estimator_doc_link.fitted {\n",
       "  /* fitted */\n",
       "  border: var(--sklearn-color-fitted-level-1) 1pt solid;\n",
       "  color: var(--sklearn-color-fitted-level-1);\n",
       "}\n",
       "\n",
       "/* On hover */\n",
       "#sk-container-id-1 a.estimator_doc_link:hover {\n",
       "  /* unfitted */\n",
       "  background-color: var(--sklearn-color-unfitted-level-3);\n",
       "  color: var(--sklearn-color-background);\n",
       "  text-decoration: none;\n",
       "}\n",
       "\n",
       "#sk-container-id-1 a.estimator_doc_link.fitted:hover {\n",
       "  /* fitted */\n",
       "  background-color: var(--sklearn-color-fitted-level-3);\n",
       "}\n",
       "</style><div id=\"sk-container-id-1\" class=\"sk-top-container\"><div class=\"sk-text-repr-fallback\"><pre>LogisticRegression(max_iter=1000, multi_class=&#x27;auto&#x27;, random_state=42)</pre><b>In a Jupyter environment, please rerun this cell to show the HTML representation or trust the notebook. <br />On GitHub, the HTML representation is unable to render, please try loading this page with nbviewer.org.</b></div><div class=\"sk-container\" hidden><div class=\"sk-item\"><div class=\"sk-estimator fitted sk-toggleable\"><input class=\"sk-toggleable__control sk-hidden--visually\" id=\"sk-estimator-id-1\" type=\"checkbox\" checked><label for=\"sk-estimator-id-1\" class=\"sk-toggleable__label fitted sk-toggleable__label-arrow\"><div><div>LogisticRegression</div></div><div><a class=\"sk-estimator-doc-link fitted\" rel=\"noreferrer\" target=\"_blank\" href=\"https://scikit-learn.org/1.6/modules/generated/sklearn.linear_model.LogisticRegression.html\">?<span>Documentation for LogisticRegression</span></a><span class=\"sk-estimator-doc-link fitted\">i<span>Fitted</span></span></div></label><div class=\"sk-toggleable__content fitted\"><pre>LogisticRegression(max_iter=1000, multi_class=&#x27;auto&#x27;, random_state=42)</pre></div> </div></div></div></div>"
      ]
     },
     "execution_count": 7,
     "metadata": {},
     "output_type": "execute_result"
    }
   ],
   "execution_count": 7
  },
  {
   "metadata": {
    "ExecuteTime": {
     "end_time": "2025-04-25T13:07:41.432272Z",
     "start_time": "2025-04-25T13:07:41.429313Z"
    }
   },
   "cell_type": "code",
   "source": [
    "# Prediction\n",
    "predictions = model.predict(x_test)\n"
   ],
   "id": "2e6748456248e01",
   "outputs": [],
   "execution_count": 8
  },
  {
   "metadata": {
    "ExecuteTime": {
     "end_time": "2025-04-25T13:07:42.176841Z",
     "start_time": "2025-04-25T13:07:42.171753Z"
    }
   },
   "cell_type": "code",
   "source": [
    "# Calculate metrics (accuracy in this case)\n",
    "accuracy = accuracy_score(y_test, predictions)\n",
    "accuracy"
   ],
   "id": "c76b522589076b45",
   "outputs": [
    {
     "data": {
      "text/plain": [
       "1.0"
      ]
     },
     "execution_count": 9,
     "metadata": {},
     "output_type": "execute_result"
    }
   ],
   "execution_count": 9
  },
  {
   "metadata": {
    "ExecuteTime": {
     "end_time": "2025-04-25T13:07:46.827413Z",
     "start_time": "2025-04-25T13:07:43.748688Z"
    }
   },
   "cell_type": "code",
   "source": [
    "# MlFlow experiment tracking\n",
    "mlflow.set_experiment(\"Iris_Classification\")\n",
    "with mlflow.start_run():\n",
    "    # Log parameters\n",
    "    mlflow.log_params(params)\n",
    "\n",
    "    # Log metrics\n",
    "    mlflow.log_metric(\"accuracy\", accuracy)\n",
    "\n",
    "    # Set a tag\n",
    "    mlflow.set_tag(\"model\", \"Logistic Regression for iris dataset\")\n",
    "\n",
    "    # Log the model\n",
    "    signature = infer_signature(x_train, model.predict(x_train))\n",
    "    mlflow.sklearn.log_model(\n",
    "        sk_model=model,\n",
    "        artifact_path=\"iris_model\",\n",
    "        signature=signature,\n",
    "        input_example=x_train[:5],  # Optional: Example input for the model\n",
    "        registered_model_name=\"Iris_Classifier\"  # Optional: Name for the registered model\n",
    "    )\n"
   ],
   "id": "30812915377b1ac8",
   "outputs": [
    {
     "name": "stderr",
     "output_type": "stream",
     "text": [
      "2025/04/25 08:07:43 INFO mlflow.tracking.fluent: Experiment with name 'Iris_Classification' does not exist. Creating a new experiment.\n",
      "Successfully registered model 'Iris_Classifier'.\n",
      "2025/04/25 08:07:46 INFO mlflow.store.model_registry.abstract_store: Waiting up to 300 seconds for model version to finish creation. Model name: Iris_Classifier, version 1\n"
     ]
    },
    {
     "name": "stdout",
     "output_type": "stream",
     "text": [
      "🏃 View run exultant-hawk-240 at: http://127.0.0.1:5000/#/experiments/120868158865737848/runs/14701c8ea3ab4dc4b3518cf6c7cd3f44\n",
      "🧪 View experiment at: http://127.0.0.1:5000/#/experiments/120868158865737848\n"
     ]
    },
    {
     "name": "stderr",
     "output_type": "stream",
     "text": [
      "Created version '1' of model 'Iris_Classifier'.\n"
     ]
    }
   ],
   "execution_count": 10
  },
  {
   "metadata": {},
   "cell_type": "markdown",
   "source": "## Validate the model before deployment",
   "id": "22b58e014bac10dc"
  },
  {
   "metadata": {
    "ExecuteTime": {
     "end_time": "2025-04-25T13:10:14.506333Z",
     "start_time": "2025-04-25T13:08:59.014808Z"
    }
   },
   "cell_type": "code",
   "source": [
    "import mlflow\n",
    "from mlflow.models import Model\n",
    "\n",
    "model_uri = 'runs:/14701c8ea3ab4dc4b3518cf6c7cd3f44/iris_model'\n",
    "# The model is logged with an input example\n",
    "pyfunc_model = mlflow.pyfunc.load_model(model_uri)\n",
    "input_data = pyfunc_model.input_example\n",
    "\n",
    "# Verify the model with the provided input data using the logged dependencies.\n",
    "# For more details, refer to:\n",
    "# https://mlflow.org/docs/latest/models.html#validate-models-before-deployment\n",
    "mlflow.models.predict(\n",
    "    model_uri=model_uri,\n",
    "    input_data=input_data,\n",
    "    env_manager=\"uv\",\n",
    ")"
   ],
   "id": "1386dbc17459b296",
   "outputs": [
    {
     "name": "stderr",
     "output_type": "stream",
     "text": [
      "2025/04/25 08:08:59 INFO mlflow.models.flavor_backend_registry: Selected backend for flavor 'python_function'\n",
      "2025/04/25 08:08:59 INFO mlflow.utils.virtualenv: Creating a new environment in /var/folders/xp/5dmb9r_s3mn9gw4dtc6jz0lr0000gp/T/tmpmuuzlh3s/envs/virtualenv_envs/mlflow-26a1ab1c0576b7d5fb008f0917e25155435e6376 with python version 3.12.9 using uv\n",
      "Using CPython 3.12.9 interpreter at: \u001B[36m/opt/miniconda3/envs/mlops/bin/python3.12\u001B[39m\n",
      "Creating virtual environment at: \u001B[36m/var/folders/xp/5dmb9r_s3mn9gw4dtc6jz0lr0000gp/T/tmpmuuzlh3s/envs/virtualenv_envs/mlflow-26a1ab1c0576b7d5fb008f0917e25155435e6376\u001B[39m\n",
      "Activate with: \u001B[32msource /var/folders/xp/5dmb9r_s3mn9gw4dtc6jz0lr0000gp/T/tmpmuuzlh3s/envs/virtualenv_envs/mlflow-26a1ab1c0576b7d5fb008f0917e25155435e6376/bin/activate\u001B[39m\n",
      "2025/04/25 08:09:00 INFO mlflow.utils.virtualenv: Installing dependencies\n",
      "\u001B[2mUsing Python 3.12.9 environment at: /var/folders/xp/5dmb9r_s3mn9gw4dtc6jz0lr0000gp/T/tmpmuuzlh3s/envs/virtualenv_envs/mlflow-26a1ab1c0576b7d5fb008f0917e25155435e6376\u001B[0m\n",
      "\u001B[2mResolved \u001B[1m3 packages\u001B[0m \u001B[2min 249ms\u001B[0m\u001B[0m\n",
      "\u001B[2mPrepared \u001B[1m3 packages\u001B[0m \u001B[2min 427ms\u001B[0m\u001B[0m\n",
      "\u001B[2mInstalled \u001B[1m3 packages\u001B[0m \u001B[2min 16ms\u001B[0m\u001B[0m\n",
      " \u001B[32m+\u001B[39m \u001B[1mpip\u001B[0m\u001B[2m==25.0\u001B[0m\n",
      " \u001B[32m+\u001B[39m \u001B[1msetuptools\u001B[0m\u001B[2m==75.8.0\u001B[0m\n",
      " \u001B[32m+\u001B[39m \u001B[1mwheel\u001B[0m\u001B[2m==0.45.1\u001B[0m\n",
      "\u001B[2mUsing Python 3.12.9 environment at: /var/folders/xp/5dmb9r_s3mn9gw4dtc6jz0lr0000gp/T/tmpmuuzlh3s/envs/virtualenv_envs/mlflow-26a1ab1c0576b7d5fb008f0917e25155435e6376\u001B[0m\n",
      "\u001B[2mResolved \u001B[1m74 packages\u001B[0m \u001B[2min 1.37s\u001B[0m\u001B[0m\n",
      "\u001B[2mPrepared \u001B[1m74 packages\u001B[0m \u001B[2min 21.04s\u001B[0m\u001B[0m\n",
      "\u001B[2mInstalled \u001B[1m74 packages\u001B[0m \u001B[2min 584ms\u001B[0m\u001B[0m\n",
      " \u001B[32m+\u001B[39m \u001B[1malembic\u001B[0m\u001B[2m==1.15.2\u001B[0m\n",
      " \u001B[32m+\u001B[39m \u001B[1mannotated-types\u001B[0m\u001B[2m==0.7.0\u001B[0m\n",
      " \u001B[32m+\u001B[39m \u001B[1manyio\u001B[0m\u001B[2m==4.9.0\u001B[0m\n",
      " \u001B[32m+\u001B[39m \u001B[1mblinker\u001B[0m\u001B[2m==1.9.0\u001B[0m\n",
      " \u001B[32m+\u001B[39m \u001B[1mcachetools\u001B[0m\u001B[2m==5.5.2\u001B[0m\n",
      " \u001B[32m+\u001B[39m \u001B[1mcertifi\u001B[0m\u001B[2m==2025.1.31\u001B[0m\n",
      " \u001B[32m+\u001B[39m \u001B[1mcharset-normalizer\u001B[0m\u001B[2m==3.4.1\u001B[0m\n",
      " \u001B[32m+\u001B[39m \u001B[1mclick\u001B[0m\u001B[2m==8.1.8\u001B[0m\n",
      " \u001B[32m+\u001B[39m \u001B[1mcloudpickle\u001B[0m\u001B[2m==3.1.1\u001B[0m\n",
      " \u001B[32m+\u001B[39m \u001B[1mcontourpy\u001B[0m\u001B[2m==1.3.2\u001B[0m\n",
      " \u001B[32m+\u001B[39m \u001B[1mcycler\u001B[0m\u001B[2m==0.12.1\u001B[0m\n",
      " \u001B[32m+\u001B[39m \u001B[1mdatabricks-sdk\u001B[0m\u001B[2m==0.50.0\u001B[0m\n",
      " \u001B[32m+\u001B[39m \u001B[1mdeprecated\u001B[0m\u001B[2m==1.2.18\u001B[0m\n",
      " \u001B[32m+\u001B[39m \u001B[1mdocker\u001B[0m\u001B[2m==7.1.0\u001B[0m\n",
      " \u001B[32m+\u001B[39m \u001B[1mfastapi\u001B[0m\u001B[2m==0.115.12\u001B[0m\n",
      " \u001B[32m+\u001B[39m \u001B[1mflask\u001B[0m\u001B[2m==3.1.0\u001B[0m\n",
      " \u001B[32m+\u001B[39m \u001B[1mfonttools\u001B[0m\u001B[2m==4.57.0\u001B[0m\n",
      " \u001B[32m+\u001B[39m \u001B[1mgitdb\u001B[0m\u001B[2m==4.0.12\u001B[0m\n",
      " \u001B[32m+\u001B[39m \u001B[1mgitpython\u001B[0m\u001B[2m==3.1.44\u001B[0m\n",
      " \u001B[32m+\u001B[39m \u001B[1mgoogle-auth\u001B[0m\u001B[2m==2.39.0\u001B[0m\n",
      " \u001B[32m+\u001B[39m \u001B[1mgraphene\u001B[0m\u001B[2m==3.4.3\u001B[0m\n",
      " \u001B[32m+\u001B[39m \u001B[1mgraphql-core\u001B[0m\u001B[2m==3.2.6\u001B[0m\n",
      " \u001B[32m+\u001B[39m \u001B[1mgraphql-relay\u001B[0m\u001B[2m==3.2.0\u001B[0m\n",
      " \u001B[32m+\u001B[39m \u001B[1mgunicorn\u001B[0m\u001B[2m==23.0.0\u001B[0m\n",
      " \u001B[32m+\u001B[39m \u001B[1mh11\u001B[0m\u001B[2m==0.16.0\u001B[0m\n",
      " \u001B[32m+\u001B[39m \u001B[1midna\u001B[0m\u001B[2m==3.10\u001B[0m\n",
      " \u001B[32m+\u001B[39m \u001B[1mimportlib-metadata\u001B[0m\u001B[2m==8.6.1\u001B[0m\n",
      " \u001B[32m+\u001B[39m \u001B[1mitsdangerous\u001B[0m\u001B[2m==2.2.0\u001B[0m\n",
      " \u001B[32m+\u001B[39m \u001B[1mjinja2\u001B[0m\u001B[2m==3.1.6\u001B[0m\n",
      " \u001B[32m+\u001B[39m \u001B[1mjoblib\u001B[0m\u001B[2m==1.4.2\u001B[0m\n",
      " \u001B[32m+\u001B[39m \u001B[1mkiwisolver\u001B[0m\u001B[2m==1.4.8\u001B[0m\n",
      " \u001B[32m+\u001B[39m \u001B[1mmako\u001B[0m\u001B[2m==1.3.10\u001B[0m\n",
      " \u001B[32m+\u001B[39m \u001B[1mmarkdown\u001B[0m\u001B[2m==3.8\u001B[0m\n",
      " \u001B[32m+\u001B[39m \u001B[1mmarkupsafe\u001B[0m\u001B[2m==3.0.2\u001B[0m\n",
      " \u001B[32m+\u001B[39m \u001B[1mmatplotlib\u001B[0m\u001B[2m==3.10.1\u001B[0m\n",
      " \u001B[32m+\u001B[39m \u001B[1mmlflow\u001B[0m\u001B[2m==2.22.0\u001B[0m\n",
      " \u001B[32m+\u001B[39m \u001B[1mmlflow-skinny\u001B[0m\u001B[2m==2.22.0\u001B[0m\n",
      " \u001B[32m+\u001B[39m \u001B[1mnumpy\u001B[0m\u001B[2m==2.2.5\u001B[0m\n",
      " \u001B[32m+\u001B[39m \u001B[1mopentelemetry-api\u001B[0m\u001B[2m==1.32.1\u001B[0m\n",
      " \u001B[32m+\u001B[39m \u001B[1mopentelemetry-sdk\u001B[0m\u001B[2m==1.32.1\u001B[0m\n",
      " \u001B[32m+\u001B[39m \u001B[1mopentelemetry-semantic-conventions\u001B[0m\u001B[2m==0.53b1\u001B[0m\n",
      " \u001B[32m+\u001B[39m \u001B[1mpackaging\u001B[0m\u001B[2m==24.2\u001B[0m\n",
      " \u001B[32m+\u001B[39m \u001B[1mpandas\u001B[0m\u001B[2m==2.2.3\u001B[0m\n",
      " \u001B[32m+\u001B[39m \u001B[1mpillow\u001B[0m\u001B[2m==11.2.1\u001B[0m\n",
      " \u001B[32m+\u001B[39m \u001B[1mprotobuf\u001B[0m\u001B[2m==6.31.0rc1\u001B[0m\n",
      " \u001B[32m+\u001B[39m \u001B[1mpsutil\u001B[0m\u001B[2m==7.0.0\u001B[0m\n",
      " \u001B[32m+\u001B[39m \u001B[1mpyarrow\u001B[0m\u001B[2m==19.0.1\u001B[0m\n",
      " \u001B[32m+\u001B[39m \u001B[1mpyasn1\u001B[0m\u001B[2m==0.6.1\u001B[0m\n",
      " \u001B[32m+\u001B[39m \u001B[1mpyasn1-modules\u001B[0m\u001B[2m==0.4.2\u001B[0m\n",
      " \u001B[32m+\u001B[39m \u001B[1mpydantic\u001B[0m\u001B[2m==2.11.3\u001B[0m\n",
      " \u001B[32m+\u001B[39m \u001B[1mpydantic-core\u001B[0m\u001B[2m==2.33.1\u001B[0m\n",
      " \u001B[32m+\u001B[39m \u001B[1mpyparsing\u001B[0m\u001B[2m==3.2.3\u001B[0m\n",
      " \u001B[32m+\u001B[39m \u001B[1mpython-dateutil\u001B[0m\u001B[2m==2.9.0.post0\u001B[0m\n",
      " \u001B[32m+\u001B[39m \u001B[1mpytz\u001B[0m\u001B[2m==2025.2\u001B[0m\n",
      " \u001B[32m+\u001B[39m \u001B[1mpyyaml\u001B[0m\u001B[2m==6.0.2\u001B[0m\n",
      " \u001B[32m+\u001B[39m \u001B[1mrequests\u001B[0m\u001B[2m==2.32.3\u001B[0m\n",
      " \u001B[32m+\u001B[39m \u001B[1mrsa\u001B[0m\u001B[2m==4.9.1\u001B[0m\n",
      " \u001B[32m+\u001B[39m \u001B[1mscikit-learn\u001B[0m\u001B[2m==1.6.1\u001B[0m\n",
      " \u001B[32m+\u001B[39m \u001B[1mscipy\u001B[0m\u001B[2m==1.15.2\u001B[0m\n",
      " \u001B[32m+\u001B[39m \u001B[1msix\u001B[0m\u001B[2m==1.17.0\u001B[0m\n",
      " \u001B[32m+\u001B[39m \u001B[1msmmap\u001B[0m\u001B[2m==5.0.2\u001B[0m\n",
      " \u001B[32m+\u001B[39m \u001B[1msniffio\u001B[0m\u001B[2m==1.3.1\u001B[0m\n",
      " \u001B[32m+\u001B[39m \u001B[1msqlalchemy\u001B[0m\u001B[2m==2.0.40\u001B[0m\n",
      " \u001B[32m+\u001B[39m \u001B[1msqlparse\u001B[0m\u001B[2m==0.5.3\u001B[0m\n",
      " \u001B[32m+\u001B[39m \u001B[1mstarlette\u001B[0m\u001B[2m==0.46.2\u001B[0m\n",
      " \u001B[32m+\u001B[39m \u001B[1mthreadpoolctl\u001B[0m\u001B[2m==3.6.0\u001B[0m\n",
      " \u001B[32m+\u001B[39m \u001B[1mtyping-extensions\u001B[0m\u001B[2m==4.13.2\u001B[0m\n",
      " \u001B[32m+\u001B[39m \u001B[1mtyping-inspection\u001B[0m\u001B[2m==0.4.0\u001B[0m\n",
      " \u001B[32m+\u001B[39m \u001B[1mtzdata\u001B[0m\u001B[2m==2025.2\u001B[0m\n",
      " \u001B[32m+\u001B[39m \u001B[1murllib3\u001B[0m\u001B[2m==2.4.0\u001B[0m\n",
      " \u001B[32m+\u001B[39m \u001B[1muvicorn\u001B[0m\u001B[2m==0.34.2\u001B[0m\n",
      " \u001B[32m+\u001B[39m \u001B[1mwerkzeug\u001B[0m\u001B[2m==3.1.3\u001B[0m\n",
      " \u001B[32m+\u001B[39m \u001B[1mwrapt\u001B[0m\u001B[2m==1.17.2\u001B[0m\n",
      " \u001B[32m+\u001B[39m \u001B[1mzipp\u001B[0m\u001B[2m==3.21.0\u001B[0m\n",
      "2025/04/25 08:09:24 INFO mlflow.utils.environment: === Running command '['bash', '-c', 'source /var/folders/xp/5dmb9r_s3mn9gw4dtc6jz0lr0000gp/T/tmpmuuzlh3s/envs/virtualenv_envs/mlflow-26a1ab1c0576b7d5fb008f0917e25155435e6376/bin/activate && python -c \"\"']'\n",
      "2025/04/25 08:09:24 INFO mlflow.utils.environment: === Running command '['bash', '-c', 'source /var/folders/xp/5dmb9r_s3mn9gw4dtc6jz0lr0000gp/T/tmpmuuzlh3s/envs/virtualenv_envs/mlflow-26a1ab1c0576b7d5fb008f0917e25155435e6376/bin/activate && python /opt/miniconda3/envs/mlops/lib/python3.12/site-packages/mlflow/pyfunc/_mlflow_pyfunc_backend_predict.py --model-uri file:///var/folders/xp/5dmb9r_s3mn9gw4dtc6jz0lr0000gp/T/tmp84hunmh6/iris_model --content-type json --input-path /var/folders/xp/5dmb9r_s3mn9gw4dtc6jz0lr0000gp/T/tmpm8perb3g/input.json']'\n"
     ]
    },
    {
     "name": "stdout",
     "output_type": "stream",
     "text": [
      "{\"predictions\": [0, 0, 1, 0, 0]}"
     ]
    }
   ],
   "execution_count": 12
  },
  {
   "metadata": {},
   "cell_type": "markdown",
   "source": [
    "## Model Registry\n",
    "\n",
    "The MLFlow Model Registry component is a centralized model store, set of APIs and UI, to collaboratively manage the full lifecycle of MLflow models. It provides a way to manage the model lifecycle, including stages like \"Staging\", \"Production\", and \"Archived\". The Model Registry allows you to version your models, annotate them with metadata, and manage their deployment."
   ],
   "id": "403001dda8e6cd9"
  },
  {
   "metadata": {
    "ExecuteTime": {
     "end_time": "2025-04-25T21:44:48.328491Z",
     "start_time": "2025-04-25T21:44:44.983236Z"
    }
   },
   "cell_type": "code",
   "source": [
    "# Create anew MlFlow experiment\n",
    "mlflow.set_experiment(\"MLFLOW Quickstart\")\n",
    "\n",
    "# Start an MLFLOW run\n",
    "with mlflow.start_run():\n",
    "    # Log the hyperparameters\n",
    "    mlflow.log_params(params)\n",
    "\n",
    "    # Log the accuracy metrics\n",
    "    mlflow.log_metric(\"accuracy\", 1.0)\n",
    "\n",
    "    # Set the tag we can use to remind ourselves what this run was for\n",
    "    mlflow.set_tag(\"Training Info\", \"Logistic Regression for iris dataset\")\n",
    "\n",
    "    # infer signature\n",
    "    signature = infer_signature(x_train, model.predict(x_train))\n",
    "\n",
    "    # Log the model\n",
    "    mlflow.sklearn.log_model(\n",
    "        sk_model=model,\n",
    "        artifact_path=\"iris_model\",\n",
    "        signature=signature,\n",
    "        input_example=x_train[:5],  # Optional: Example input for the model\n",
    "        # registered_model_name=\"Iris_Classifier\"  # Optional: Name for the registered model\n",
    "    )\n"
   ],
   "id": "a56cfbe965aaca22",
   "outputs": [
    {
     "name": "stderr",
     "output_type": "stream",
     "text": [
      "2025/04/25 16:44:45 INFO mlflow.tracking.fluent: Experiment with name 'MLFLOW Quickstart' does not exist. Creating a new experiment.\n"
     ]
    },
    {
     "name": "stdout",
     "output_type": "stream",
     "text": [
      "🏃 View run loud-crab-539 at: http://127.0.0.1:5000/#/experiments/265856417353344936/runs/d411c55d7b224358a5394626ecaea14d\n",
      "🧪 View experiment at: http://127.0.0.1:5000/#/experiments/265856417353344936\n"
     ]
    }
   ],
   "execution_count": 13
  },
  {
   "metadata": {
    "ExecuteTime": {
     "end_time": "2025-04-25T21:51:59.093315Z",
     "start_time": "2025-04-25T21:51:59.042818Z"
    }
   },
   "cell_type": "code",
   "source": [
    "# Inferencing from model registry\n",
    "import mlflow.sklearn\n",
    "model_name = \"Iris_Classifier\"\n",
    "model_version = 2\n",
    "model_uri = f\"models:/{model_name}/{model_version}\"\n",
    "\n",
    "model = mlflow.sklearn.load_model(model_uri)"
   ],
   "id": "bcf2fa961ecbc1b7",
   "outputs": [],
   "execution_count": 14
  },
  {
   "metadata": {
    "ExecuteTime": {
     "end_time": "2025-04-25T21:52:06.496626Z",
     "start_time": "2025-04-25T21:52:06.491491Z"
    }
   },
   "cell_type": "code",
   "source": "model.predict(x_train)",
   "id": "c7541a269d631d2d",
   "outputs": [
    {
     "data": {
      "text/plain": [
       "array([0, 0, 1, 0, 0, 2, 1, 0, 0, 0, 2, 1, 1, 0, 0, 1, 2, 2, 1, 2, 1, 2,\n",
       "       1, 0, 2, 1, 0, 0, 0, 1, 2, 0, 0, 0, 1, 0, 1, 2, 0, 1, 2, 0, 2, 2,\n",
       "       1, 1, 2, 1, 0, 1, 2, 0, 0, 1, 2, 0, 2, 0, 0, 2, 1, 2, 2, 2, 2, 1,\n",
       "       0, 0, 2, 2, 0, 0, 0, 1, 2, 0, 2, 2, 0, 1, 1, 2, 1, 2, 0, 2, 1, 2,\n",
       "       1, 1, 1, 0, 1, 1, 0, 1, 2, 2, 0, 1, 2, 2, 0, 2, 0, 1, 2, 2, 1, 2,\n",
       "       1, 1, 2, 2, 0, 1, 2, 0, 1, 2])"
      ]
     },
     "execution_count": 15,
     "metadata": {},
     "output_type": "execute_result"
    }
   ],
   "execution_count": 15
  },
  {
   "metadata": {},
   "cell_type": "code",
   "outputs": [],
   "execution_count": null,
   "source": "",
   "id": "925ad44dcdcf2eab"
  }
 ],
 "metadata": {
  "kernelspec": {
   "display_name": "Python 3",
   "language": "python",
   "name": "python3"
  },
  "language_info": {
   "codemirror_mode": {
    "name": "ipython",
    "version": 2
   },
   "file_extension": ".py",
   "mimetype": "text/x-python",
   "name": "python",
   "nbconvert_exporter": "python",
   "pygments_lexer": "ipython2",
   "version": "2.7.6"
  }
 },
 "nbformat": 4,
 "nbformat_minor": 5
}
