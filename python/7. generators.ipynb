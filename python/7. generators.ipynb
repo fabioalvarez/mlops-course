{
 "cells": [
  {
   "metadata": {},
   "cell_type": "markdown",
   "source": [
    "# Generators\n",
    "\n",
    "Generators are a special type of iterator in Python that allow you to iterate over a sequence of values without storing the entire sequence in memory. They are defined using functions and the `yield` statement, which allows the function to return a value and pause its execution, resuming later from where it left off.\n",
    "\n",
    "## Main Advantages of Generators:\n",
    "- **Memory Efficiency**: Generators yield items one at a time and only when requested, making them memory efficient for large datasets.\n",
    "- **Lazy Evaluation**: They compute values on-the-fly, which can lead to performance improvements."
   ],
   "id": "6dc3473b30e91dd9"
  },
  {
   "metadata": {
    "collapsed": true,
    "ExecuteTime": {
     "end_time": "2025-04-17T20:30:36.188037Z",
     "start_time": "2025-04-17T20:30:36.184933Z"
    }
   },
   "cell_type": "code",
   "source": [
    "def squares(n):\n",
    "    c = 0\n",
    "    for i in range(n):\n",
    "        c += 1\n",
    "        print(c)\n",
    "        yield i ** 2"
   ],
   "id": "initial_id",
   "outputs": [],
   "execution_count": 1
  },
  {
   "metadata": {
    "ExecuteTime": {
     "end_time": "2025-04-17T20:32:34.779674Z",
     "start_time": "2025-04-17T20:32:34.776041Z"
    }
   },
   "cell_type": "code",
   "source": "squares(4)",
   "id": "3a84a2788e22d4c4",
   "outputs": [
    {
     "data": {
      "text/plain": [
       "<generator object squares at 0x1061e6c00>"
      ]
     },
     "execution_count": 6,
     "metadata": {},
     "output_type": "execute_result"
    }
   ],
   "execution_count": 6
  },
  {
   "metadata": {
    "ExecuteTime": {
     "end_time": "2025-04-17T20:32:18.875994Z",
     "start_time": "2025-04-17T20:32:18.873738Z"
    }
   },
   "cell_type": "code",
   "source": [
    "for i in squares(4):\n",
    "    continue"
   ],
   "id": "2826ab9c2192bea6",
   "outputs": [
    {
     "name": "stdout",
     "output_type": "stream",
     "text": [
      "1\n",
      "2\n",
      "3\n",
      "4\n"
     ]
    }
   ],
   "execution_count": 5
  },
  {
   "metadata": {
    "ExecuteTime": {
     "end_time": "2025-04-17T20:39:17.404009Z",
     "start_time": "2025-04-17T20:39:17.401099Z"
    }
   },
   "cell_type": "code",
   "source": [
    "# Reading large files\n",
    "def read_large_file(file_path):\n",
    "    with open(file_path, 'r') as file:\n",
    "        for line in file:\n",
    "            yield line.strip()"
   ],
   "id": "c7c876122ea358d1",
   "outputs": [],
   "execution_count": 7
  },
  {
   "metadata": {},
   "cell_type": "code",
   "outputs": [],
   "execution_count": null,
   "source": "",
   "id": "9d112ccf4e2148d3"
  }
 ],
 "metadata": {
  "kernelspec": {
   "display_name": "Python 3",
   "language": "python",
   "name": "python3"
  },
  "language_info": {
   "codemirror_mode": {
    "name": "ipython",
    "version": 2
   },
   "file_extension": ".py",
   "mimetype": "text/x-python",
   "name": "python",
   "nbconvert_exporter": "python",
   "pygments_lexer": "ipython2",
   "version": "2.7.6"
  }
 },
 "nbformat": 4,
 "nbformat_minor": 5
}
