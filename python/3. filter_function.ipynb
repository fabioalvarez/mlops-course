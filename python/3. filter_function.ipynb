{
 "cells": [
  {
   "metadata": {},
   "cell_type": "markdown",
   "source": [
    "# The Filter Function\n",
    "\n",
    "The filter() function in Python is a built-in that constructs an iterator from elements of an iterable for which a function returns true. It’s particularly useful for filtering data based on certain criteria."
   ],
   "id": "3f2b72719ca15757"
  },
  {
   "metadata": {
    "collapsed": true,
    "ExecuteTime": {
     "end_time": "2025-04-15T17:34:14.070485Z",
     "start_time": "2025-04-15T17:34:14.066111Z"
    }
   },
   "cell_type": "code",
   "source": [
    "def even(x):\n",
    "    return x % 2 == 0\n",
    "\n",
    "lst = [1, 2, 3, 4, 5, 6, 7, 8, 9, 10]\n",
    "list(filter(even, lst))"
   ],
   "id": "initial_id",
   "outputs": [
    {
     "data": {
      "text/plain": [
       "[2, 4, 6, 8, 10]"
      ]
     },
     "execution_count": 1,
     "metadata": {},
     "output_type": "execute_result"
    }
   ],
   "execution_count": 1
  },
  {
   "metadata": {
    "ExecuteTime": {
     "end_time": "2025-04-15T17:35:05.617612Z",
     "start_time": "2025-04-15T17:35:05.614105Z"
    }
   },
   "cell_type": "code",
   "source": [
    "# Filter with a lambda function\n",
    "list(filter(lambda x: x%2 == 0, lst))"
   ],
   "id": "763830ffdfac5feb",
   "outputs": [
    {
     "data": {
      "text/plain": [
       "[2, 4, 6, 8, 10]"
      ]
     },
     "execution_count": 2,
     "metadata": {},
     "output_type": "execute_result"
    }
   ],
   "execution_count": 2
  },
  {
   "metadata": {
    "ExecuteTime": {
     "end_time": "2025-04-15T17:36:13.983039Z",
     "start_time": "2025-04-15T17:36:13.976670Z"
    }
   },
   "cell_type": "code",
   "source": [
    "# Filter with lambda function and multiple conditions\n",
    "list(filter(lambda x: x%2 == 0 and x > 5, lst))"
   ],
   "id": "5f04ad493929dc80",
   "outputs": [
    {
     "data": {
      "text/plain": [
       "[6, 8, 10]"
      ]
     },
     "execution_count": 3,
     "metadata": {},
     "output_type": "execute_result"
    }
   ],
   "execution_count": 3
  },
  {
   "metadata": {
    "ExecuteTime": {
     "end_time": "2025-04-15T17:40:15.530999Z",
     "start_time": "2025-04-15T17:40:15.524359Z"
    }
   },
   "cell_type": "code",
   "source": [
    "# Filter to check if the age is greater than 25 in dictionaries\n",
    "people = [\n",
    "    {\"name\": \"Alice\", \"age\": 30},\n",
    "    {\"name\": \"Bob\", \"age\": 25},\n",
    "    {\"name\": \"Charlie\", \"age\": 35}\n",
    "]\n",
    "\n",
    "def age_greater_than_25(person):\n",
    "    return person[\"age\"] > 25\n",
    "\n",
    "list(filter(age_greater_than_25, people))"
   ],
   "id": "40a1de19ada318e0",
   "outputs": [
    {
     "data": {
      "text/plain": [
       "[{'name': 'Alice', 'age': 30}, {'name': 'Charlie', 'age': 35}]"
      ]
     },
     "execution_count": 4,
     "metadata": {},
     "output_type": "execute_result"
    }
   ],
   "execution_count": 4
  },
  {
   "metadata": {},
   "cell_type": "code",
   "outputs": [],
   "execution_count": null,
   "source": "",
   "id": "9229e3fdbc7ee2c2"
  }
 ],
 "metadata": {
  "kernelspec": {
   "display_name": "Python 3",
   "language": "python",
   "name": "python3"
  },
  "language_info": {
   "codemirror_mode": {
    "name": "ipython",
    "version": 2
   },
   "file_extension": ".py",
   "mimetype": "text/x-python",
   "name": "python",
   "nbconvert_exporter": "python",
   "pygments_lexer": "ipython2",
   "version": "2.7.6"
  }
 },
 "nbformat": 4,
 "nbformat_minor": 5
}
