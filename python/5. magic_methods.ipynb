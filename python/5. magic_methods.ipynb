{
 "cells": [
  {
   "metadata": {},
   "cell_type": "markdown",
   "source": [
    "# Magic Methods\n",
    "\n",
    "Magic methods are predefined methods in python that you can override to change the behavior of your objects. Some common magic methods include:\n",
    "\n",
    "- `__init__`: Initializes a new instance of a class.\n",
    "- `__str__`: Defines the string representation of an object.\n",
    "- `__repr__`: Defines the official string representation of an object.\n",
    "- `__len__`: Defines the behavior of the built-in `len()` function.\n",
    "- `__getitem__`: Defines the behavior of indexing (e.g., `obj[key]`).\n",
    "- `__setitem__`: Defines the behavior of item assignment (e.g., `obj[key] = value`)."
   ],
   "id": "a82d832b6086b5ab"
  },
  {
   "metadata": {
    "collapsed": true,
    "ExecuteTime": {
     "end_time": "2025-04-16T12:22:04.096269Z",
     "start_time": "2025-04-16T12:22:04.091672Z"
    }
   },
   "cell_type": "code",
   "source": [
    "class Person:\n",
    "    pass\n",
    "\n",
    "person=Person()\n",
    "dir(person)"
   ],
   "id": "initial_id",
   "outputs": [
    {
     "data": {
      "text/plain": [
       "['__class__',\n",
       " '__delattr__',\n",
       " '__dict__',\n",
       " '__dir__',\n",
       " '__doc__',\n",
       " '__eq__',\n",
       " '__format__',\n",
       " '__ge__',\n",
       " '__getattribute__',\n",
       " '__getstate__',\n",
       " '__gt__',\n",
       " '__hash__',\n",
       " '__init__',\n",
       " '__init_subclass__',\n",
       " '__le__',\n",
       " '__lt__',\n",
       " '__module__',\n",
       " '__ne__',\n",
       " '__new__',\n",
       " '__reduce__',\n",
       " '__reduce_ex__',\n",
       " '__repr__',\n",
       " '__setattr__',\n",
       " '__sizeof__',\n",
       " '__str__',\n",
       " '__subclasshook__',\n",
       " '__weakref__']"
      ]
     },
     "execution_count": 1,
     "metadata": {},
     "output_type": "execute_result"
    }
   ],
   "execution_count": 1
  },
  {
   "metadata": {
    "ExecuteTime": {
     "end_time": "2025-04-16T12:24:47.405683Z",
     "start_time": "2025-04-16T12:24:47.402391Z"
    }
   },
   "cell_type": "code",
   "source": [
    "class Person:\n",
    "    def __init__(self, name, age):\n",
    "        self.name = name\n",
    "        self.age = age\n",
    "\n",
    "person = Person('John', 22)\n",
    "print(person)"
   ],
   "id": "d2fb1bf6d1cb8e95",
   "outputs": [
    {
     "name": "stdout",
     "output_type": "stream",
     "text": [
      "<__main__.Person object at 0x10629d370>\n"
     ]
    }
   ],
   "execution_count": 2
  },
  {
   "metadata": {
    "ExecuteTime": {
     "end_time": "2025-04-16T12:28:00.115665Z",
     "start_time": "2025-04-16T12:28:00.112398Z"
    }
   },
   "cell_type": "code",
   "source": [
    "class Person:\n",
    "    def __init__(self, name, age):\n",
    "        self.name = name\n",
    "        self.age = age\n",
    "\n",
    "    def __str__(self):\n",
    "        return f'{self.name} is {self.age} years old.'\n",
    "\n",
    "    def __repr__(self):\n",
    "        return f'Person(name={self.name}, age={self.age})'"
   ],
   "id": "ae3a635b806b717e",
   "outputs": [],
   "execution_count": 4
  },
  {
   "metadata": {
    "ExecuteTime": {
     "end_time": "2025-04-16T12:28:01.155976Z",
     "start_time": "2025-04-16T12:28:01.154053Z"
    }
   },
   "cell_type": "code",
   "source": [
    "person = Person('John', 22)\n",
    "print(person)"
   ],
   "id": "5329104612bc063e",
   "outputs": [
    {
     "name": "stdout",
     "output_type": "stream",
     "text": [
      "John is 22 years old.\n"
     ]
    }
   ],
   "execution_count": 5
  },
  {
   "metadata": {
    "ExecuteTime": {
     "end_time": "2025-04-16T12:28:14.675266Z",
     "start_time": "2025-04-16T12:28:14.672332Z"
    }
   },
   "cell_type": "code",
   "source": "print(repr(person))",
   "id": "9d1d035727e5288a",
   "outputs": [
    {
     "name": "stdout",
     "output_type": "stream",
     "text": [
      "Person(name=John, age=22)\n"
     ]
    }
   ],
   "execution_count": 6
  },
  {
   "metadata": {},
   "cell_type": "markdown",
   "source": [
    "# Operator Overloading\n",
    "\n",
    "Operator overloading allows you to define custom behavior for operators (like +, -, *, etc.) when applied to instances of your class. This is done by defining special methods in your class.\n",
    "\n",
    "Some common operator overloading methods include:\n",
    "- `__add__`: Defines the behavior of the + operator.\n",
    "- `__sub__`: Defines the behavior of the - operator.\n",
    "- `__mul__`: Defines the behavior of the * operator.\n",
    "- `__truediv__`: Defines the behavior of the / operator.\n",
    "- `__floordiv__`: Defines the behavior of the // operator.\n",
    "- `__mod__`: Defines the behavior of the % operator.\n",
    "- `__pow__`: Defines the behavior of the ** operator.\n",
    "- `__eq__`: Defines the behavior of the == operator.\n",
    "- `__lt__`: Defines the behavior of the < operator."
   ],
   "id": "e87282ef2c297ee2"
  },
  {
   "metadata": {
    "ExecuteTime": {
     "end_time": "2025-04-16T12:41:49.529670Z",
     "start_time": "2025-04-16T12:41:49.526505Z"
    }
   },
   "cell_type": "code",
   "source": [
    "class Vector:\n",
    "    def __init__(self, x, y):\n",
    "        self.x = x\n",
    "        self.y = y\n",
    "\n",
    "    def __add__(self, other):\n",
    "        return Vector(self.x + other.x, self.y + other.y)\n",
    "\n",
    "    def __sub__(self, other):\n",
    "        return Vector(self.x - other.x, self.y - other.y)\n",
    "\n",
    "    def __mul__(self, scalar):\n",
    "        return Vector(self.x * scalar, self.y * scalar)\n",
    "\n",
    "    def __eq__(self, other):\n",
    "        return self.x == other.x and self.y == other.y\n",
    "\n",
    "    def __str__(self):\n",
    "        return f'Vector({self.x}, {self.y})'"
   ],
   "id": "d162c578d8542815",
   "outputs": [],
   "execution_count": 7
  },
  {
   "metadata": {
    "ExecuteTime": {
     "end_time": "2025-04-16T12:41:55.311748Z",
     "start_time": "2025-04-16T12:41:55.309777Z"
    }
   },
   "cell_type": "code",
   "source": [
    "v1 = Vector(2, 3)\n",
    "v2 = Vector(4, 5)"
   ],
   "id": "b81eab116b948a51",
   "outputs": [],
   "execution_count": 8
  },
  {
   "metadata": {
    "ExecuteTime": {
     "end_time": "2025-04-16T12:42:09.728566Z",
     "start_time": "2025-04-16T12:42:09.725786Z"
    }
   },
   "cell_type": "code",
   "source": [
    "v3 = v1 + v2\n",
    "print(v3)  # Vector(6, 8)"
   ],
   "id": "515b216f6fdbf299",
   "outputs": [
    {
     "name": "stdout",
     "output_type": "stream",
     "text": [
      "Vector(6, 8)\n"
     ]
    }
   ],
   "execution_count": 11
  },
  {
   "metadata": {
    "ExecuteTime": {
     "end_time": "2025-04-16T12:44:55.694449Z",
     "start_time": "2025-04-16T12:44:55.691230Z"
    }
   },
   "cell_type": "code",
   "source": [
    "class ComplexNumber:\n",
    "    def __init__(self, real, imag):\n",
    "        self.real = real\n",
    "        self.imag = imag\n",
    "\n",
    "    def __add__(self, other):\n",
    "        return ComplexNumber(self.real + other.real, self.imag + other.imag)\n",
    "\n",
    "    def __sub__(self, other):\n",
    "        return ComplexNumber(self.real - other.real, self.imag - other.imag)\n",
    "\n",
    "    def __mul__(self, other):\n",
    "        return ComplexNumber(self.real * other.real - self.imag * other.imag,\n",
    "                             self.real * other.imag + self.imag * other.real)\n",
    "\n",
    "    def __str__(self):\n",
    "        return f'{self.real} + {self.imag}i'"
   ],
   "id": "a2aa82f7dd8e1700",
   "outputs": [],
   "execution_count": 12
  },
  {
   "metadata": {
    "ExecuteTime": {
     "end_time": "2025-04-16T12:45:10.683637Z",
     "start_time": "2025-04-16T12:45:10.681769Z"
    }
   },
   "cell_type": "code",
   "source": [
    "number1 = ComplexNumber(1, 2)\n",
    "number2 = ComplexNumber(3, 4)\n",
    "number3 = number1 + number2"
   ],
   "id": "8b8e3d7dbc8df232",
   "outputs": [],
   "execution_count": 13
  },
  {
   "metadata": {
    "ExecuteTime": {
     "end_time": "2025-04-16T12:45:16.547238Z",
     "start_time": "2025-04-16T12:45:16.544565Z"
    }
   },
   "cell_type": "code",
   "source": "print(number3)",
   "id": "a6d106eee7f3a70e",
   "outputs": [
    {
     "name": "stdout",
     "output_type": "stream",
     "text": [
      "4 + 6i\n"
     ]
    }
   ],
   "execution_count": 14
  },
  {
   "metadata": {},
   "cell_type": "code",
   "outputs": [],
   "execution_count": null,
   "source": "",
   "id": "c211724f3f3a3b2"
  }
 ],
 "metadata": {
  "kernelspec": {
   "display_name": "Python 3",
   "language": "python",
   "name": "python3"
  },
  "language_info": {
   "codemirror_mode": {
    "name": "ipython",
    "version": 2
   },
   "file_extension": ".py",
   "mimetype": "text/x-python",
   "name": "python",
   "nbconvert_exporter": "python",
   "pygments_lexer": "ipython2",
   "version": "2.7.6"
  }
 },
 "nbformat": 4,
 "nbformat_minor": 5
}
