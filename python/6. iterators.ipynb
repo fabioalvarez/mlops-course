{
 "cells": [
  {
   "metadata": {},
   "cell_type": "markdown",
   "source": [
    "# Iterators in Python\n",
    "\n",
    "Iterators is an advanced Python concept that allow for efficient looping and memory management. Iterators provide a way to access elements of a collection sequentially without exposing the underlying structure. They are particularly useful for large datasets or streams of data where you don't want to load everything into memory at once.\n",
    "\n",
    "# Advantages of Iterators:\n",
    "- **Lazy Evaluation**: Items are computed only when needed, which can lead to performance improvements.\n",
    "- **Memory**: It depends on what the iterator is iterating over:\n",
    "    -   If you're iterating over a list, tuple, or other collection, all those items already exist in memory.\n",
    "    -   The iterator is just a wrapper that keeps track of your position as you move through the collection."
   ],
   "id": "a6e343dbd02dd372"
  },
  {
   "metadata": {
    "collapsed": true,
    "ExecuteTime": {
     "end_time": "2025-04-16T12:56:41.513311Z",
     "start_time": "2025-04-16T12:56:41.510019Z"
    }
   },
   "cell_type": "code",
   "source": [
    "iterator = iter([1, 2, 3])\n",
    "for item in iterator:\n",
    "    print(item)"
   ],
   "id": "initial_id",
   "outputs": [
    {
     "name": "stdout",
     "output_type": "stream",
     "text": [
      "1\n",
      "2\n",
      "3\n"
     ]
    }
   ],
   "execution_count": 1
  },
  {
   "metadata": {
    "ExecuteTime": {
     "end_time": "2025-04-16T12:56:49.612077Z",
     "start_time": "2025-04-16T12:56:49.608481Z"
    }
   },
   "cell_type": "code",
   "source": [
    "iterator = iter([1, 2, 3])\n",
    "print(next(iterator))  # Output: 1"
   ],
   "id": "959152b97941c175",
   "outputs": [
    {
     "name": "stdout",
     "output_type": "stream",
     "text": [
      "1\n"
     ]
    }
   ],
   "execution_count": 2
  },
  {
   "metadata": {
    "ExecuteTime": {
     "end_time": "2025-04-16T12:57:20.201376Z",
     "start_time": "2025-04-16T12:57:20.198108Z"
    }
   },
   "cell_type": "code",
   "source": [
    "# String iterator\n",
    "string = \"hello\"\n",
    "iterator = iter(string)\n",
    "for char in iterator:\n",
    "    print(char)"
   ],
   "id": "7d13b1494d8a3723",
   "outputs": [
    {
     "name": "stdout",
     "output_type": "stream",
     "text": [
      "h\n",
      "e\n",
      "l\n",
      "l\n",
      "o\n"
     ]
    }
   ],
   "execution_count": 3
  },
  {
   "metadata": {
    "ExecuteTime": {
     "end_time": "2025-04-16T13:15:54.987344Z",
     "start_time": "2025-04-16T13:15:54.983824Z"
    }
   },
   "cell_type": "code",
   "source": [
    "# Custom iterator\n",
    "class LIFO:\n",
    "    def __init__(self):\n",
    "        self.queue = []\n",
    "\n",
    "    def __iter__(self):\n",
    "        return self\n",
    "\n",
    "    def __next__(self):\n",
    "        if not self.queue:\n",
    "            raise StopIteration\n",
    "        return self.queue.pop(0)\n",
    "\n",
    "    def add(self, item):\n",
    "        self.queue.append(item)"
   ],
   "id": "94689918af81cf2a",
   "outputs": [],
   "execution_count": 6
  },
  {
   "metadata": {
    "ExecuteTime": {
     "end_time": "2025-04-16T13:16:18.233493Z",
     "start_time": "2025-04-16T13:16:18.230870Z"
    }
   },
   "cell_type": "code",
   "source": [
    "lifo = LIFO()\n",
    "lifo.add(1)\n",
    "lifo.add(2)\n",
    "lifo.add(3)"
   ],
   "id": "975fb616283a2729",
   "outputs": [],
   "execution_count": 7
  },
  {
   "metadata": {
    "ExecuteTime": {
     "end_time": "2025-04-16T13:16:23.484048Z",
     "start_time": "2025-04-16T13:16:23.480483Z"
    }
   },
   "cell_type": "code",
   "source": "next(lifo)",
   "id": "ac87a04f3c10f527",
   "outputs": [
    {
     "data": {
      "text/plain": [
       "1"
      ]
     },
     "execution_count": 8,
     "metadata": {},
     "output_type": "execute_result"
    }
   ],
   "execution_count": 8
  },
  {
   "metadata": {
    "ExecuteTime": {
     "end_time": "2025-04-16T13:16:31.771206Z",
     "start_time": "2025-04-16T13:16:31.767641Z"
    }
   },
   "cell_type": "code",
   "source": "next(lifo)",
   "id": "d259248d21b19db8",
   "outputs": [
    {
     "data": {
      "text/plain": [
       "2"
      ]
     },
     "execution_count": 9,
     "metadata": {},
     "output_type": "execute_result"
    }
   ],
   "execution_count": 9
  },
  {
   "metadata": {},
   "cell_type": "code",
   "outputs": [],
   "execution_count": null,
   "source": "",
   "id": "fae3120023ed14bb"
  }
 ],
 "metadata": {
  "kernelspec": {
   "display_name": "Python 3",
   "language": "python",
   "name": "python3"
  },
  "language_info": {
   "codemirror_mode": {
    "name": "ipython",
    "version": 2
   },
   "file_extension": ".py",
   "mimetype": "text/x-python",
   "name": "python",
   "nbconvert_exporter": "python",
   "pygments_lexer": "ipython2",
   "version": "2.7.6"
  }
 },
 "nbformat": 4,
 "nbformat_minor": 5
}
