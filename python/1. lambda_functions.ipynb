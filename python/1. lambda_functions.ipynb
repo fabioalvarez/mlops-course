{
 "cells": [
  {
   "metadata": {},
   "cell_type": "markdown",
   "source": [
    "# Lambda Functions in Python\n",
    "Lambda functions are small anonymous functions defined using the lambda keyword. They can have any number of arguments but only on expression. They are commonly used for short operations or as arguments to higher-order functions.\n",
    "\n",
    "\n",
    "# 🐍 Benefits of Using Lambda Functions in Python\n",
    "\n",
    "Lambda functions in Python are **anonymous**, **concise functions** defined using the `lambda` keyword. They're commonly used for simple, throwaway operations. Here are the key benefits:\n",
    "\n",
    "---\n",
    "\n",
    "## ✅ 1. Concise Syntax\n",
    "\n",
    "Lambda functions let you define quick functions in a single line, without the overhead of `def`.\n",
    "\n",
    "```python\n",
    "square = lambda x: x ** 2\n",
    "print(square(5))  # Output: 25\n",
    "```\n",
    "\n",
    "---\n",
    "\n",
    "## ✅ 2. Functional Programming Friendly\n",
    "\n",
    "They pair nicely with functional programming tools like `map()`, `filter()`, and `reduce()`.\n",
    "\n",
    "```python\n",
    "nums = [1, 2, 3, 4]\n",
    "squares = list(map(lambda x: x ** 2, nums))\n",
    "# Output: [1, 4, 9, 16]\n",
    "```\n",
    "\n",
    "---\n",
    "\n",
    "## ✅ 3. No Need to Name Functions\n",
    "\n",
    "If you’re using a function only once, lambdas save you the trouble of naming and defining it separately.\n",
    "\n",
    "```python\n",
    "print((lambda x, y: x + y)(3, 5))  # Output: 8\n",
    "```\n",
    "\n",
    "---\n",
    "\n",
    "## ✅ 4. Great for Inline Use\n",
    "\n",
    "Ideal for callbacks or sorting logic, especially in GUI frameworks or data manipulation.\n",
    "\n",
    "```python\n",
    "names = [\"Alice\", \"Bob\", \"Charlie\"]\n",
    "names.sort(key=lambda name: len(name))\n",
    "# Output: ['Bob', 'Alice', 'Charlie']\n",
    "```\n",
    "\n",
    "\n",
    "## ❌ No Runtime Speed Boost\n",
    "Lambda functions are not inherently faster at runtime than regular functions. In fact:\n",
    "\n",
    "- Python doesn't optimize them any differently under the hood.\n",
    "- They're still function objects with the same call overhead.\n",
    "\n",
    "```python\n",
    "import timeit\n",
    "\n",
    "regular_func = lambda x: x + 1\n",
    "def named_func(x): return x + 1\n",
    "\n",
    "print(timeit.timeit(\"regular_func(10)\", globals=globals()))\n",
    "print(timeit.timeit(\"named_func(10)\", globals=globals()))\n",
    "```\n",
    "\n",
    "---\n",
    "\n",
    "## ⚠️ Things to Watch Out For\n",
    "\n",
    "- **Single Expression Limit**: Lambdas can't contain multiple statements or complex logic.\n",
    "- **Readability**: Overusing lambdas in complex code can make it harder to understand."
   ],
   "id": "5c480cbf2e60970a"
  },
  {
   "metadata": {},
   "cell_type": "code",
   "outputs": [],
   "execution_count": null,
   "source": [
    "# Syntax\n",
    "# lambda arguments: expression"
   ],
   "id": "299fa8259238588d"
  },
  {
   "metadata": {
    "ExecuteTime": {
     "end_time": "2025-04-15T12:24:13.150719Z",
     "start_time": "2025-04-15T12:24:13.140236Z"
    }
   },
   "cell_type": "code",
   "source": [
    "# Example one\n",
    "def addition(a,b):\n",
    "    return a+b\n",
    "\n",
    "addition(5, 3)"
   ],
   "id": "7d123880233df4a7",
   "outputs": [
    {
     "data": {
      "text/plain": [
       "8"
      ]
     },
     "execution_count": 1,
     "metadata": {},
     "output_type": "execute_result"
    }
   ],
   "execution_count": 1
  },
  {
   "metadata": {
    "ExecuteTime": {
     "end_time": "2025-04-15T12:27:19.614622Z",
     "start_time": "2025-04-15T12:27:19.611546Z"
    }
   },
   "cell_type": "code",
   "source": "addition = lambda a,b: a+b",
   "id": "65000ed8d987e3ee",
   "outputs": [],
   "execution_count": 1
  },
  {
   "metadata": {
    "ExecuteTime": {
     "end_time": "2025-04-15T12:27:33.331399Z",
     "start_time": "2025-04-15T12:27:33.326690Z"
    }
   },
   "cell_type": "code",
   "source": "addition(1,2)",
   "id": "7d9dff20297b84f7",
   "outputs": [
    {
     "data": {
      "text/plain": [
       "3"
      ]
     },
     "execution_count": 3,
     "metadata": {},
     "output_type": "execute_result"
    }
   ],
   "execution_count": 3
  },
  {
   "metadata": {},
   "cell_type": "markdown",
   "source": [
    "# Map()\n",
    "\n",
    "Applies a function to all items in an iterable (like a list) and returns a map object (which is an iterator)."
   ],
   "id": "48f8ed8ffba5ecfc"
  },
  {
   "metadata": {
    "ExecuteTime": {
     "end_time": "2025-04-15T12:33:22.246559Z",
     "start_time": "2025-04-15T12:33:22.243521Z"
    }
   },
   "cell_type": "code",
   "source": [
    "numbers = [1,2,3]\n",
    "squared = list(map(lambda x: x**2, numbers))"
   ],
   "id": "616337cdabae9278",
   "outputs": [],
   "execution_count": 4
  },
  {
   "metadata": {
    "ExecuteTime": {
     "end_time": "2025-04-15T12:33:37.287726Z",
     "start_time": "2025-04-15T12:33:37.284605Z"
    }
   },
   "cell_type": "code",
   "source": "list(squared)",
   "id": "4c0991b5412f0ee",
   "outputs": [
    {
     "data": {
      "text/plain": [
       "[1, 4, 9]"
      ]
     },
     "execution_count": 5,
     "metadata": {},
     "output_type": "execute_result"
    }
   ],
   "execution_count": 5
  }
 ],
 "metadata": {
  "kernelspec": {
   "display_name": "Python 3",
   "language": "python",
   "name": "python3"
  },
  "language_info": {
   "codemirror_mode": {
    "name": "ipython",
    "version": 2
   },
   "file_extension": ".py",
   "mimetype": "text/x-python",
   "name": "python",
   "nbconvert_exporter": "python",
   "pygments_lexer": "ipython2",
   "version": "2.7.6"
  }
 },
 "nbformat": 4,
 "nbformat_minor": 5
}
