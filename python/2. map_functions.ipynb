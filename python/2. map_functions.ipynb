{
 "cells": [
  {
   "metadata": {},
   "cell_type": "markdown",
   "source": [
    "# The Map Function\n",
    "Great follow-up! The map() function in Python is a built-in that applies a function to every item in an iterable (like a list) and returns a new iterator with the results. It’s super handy in functional programming. Let’s go over the main benefits:\n",
    "\n",
    "```python\n",
    "map(function, iterable, ...)\n",
    "```\n",
    "\n",
    "\n",
    "# 🗺️ Benefits of `map()` Function in Python\n",
    "\n",
    "The `map()` function in Python is a built-in that applies a function to **every item in an iterable** and returns a new iterator with the results. It’s especially useful in functional-style programming.\n",
    "\n",
    "---\n",
    "\n",
    "## ✅ 1. Cleaner, More Concise Code\n",
    "\n",
    "With `map()`, you avoid verbose `for` loops.\n",
    "\n",
    "```python\n",
    "nums = [1, 2, 3, 4]\n",
    "squares = list(map(lambda x: x**2, nums))\n",
    "# Output: [1, 4, 9, 16]\n",
    "```\n",
    "\n",
    "This replaces:\n",
    "\n",
    "```python\n",
    "squares = []\n",
    "for x in nums:\n",
    "    squares.append(x**2)\n",
    "```\n",
    "\n",
    "---\n",
    "\n",
    "## ✅ 2. Faster Than Manual Loops (Sometimes)\n",
    "\n",
    "`map()` is implemented in **C**, so in simple cases it can be **faster** than equivalent Python loops, especially when used with built-in functions.\n",
    "\n",
    "```python\n",
    "names = ['Alice', 'Bob', 'Charlie']\n",
    "uppercased = list(map(str.upper, names))\n",
    "# Output: ['ALICE', 'BOB', 'CHARLIE']\n",
    "```\n",
    "\n",
    "---\n",
    "\n",
    "## ✅ 3. Memory Efficient\n",
    "\n",
    "`map()` returns a **lazy iterator**:\n",
    "\n",
    "- It computes values only when needed.\n",
    "- It uses **less memory** for large datasets.\n",
    "\n",
    "```python\n",
    "mapped = map(lambda x: x * 2, range(10**6))  # Lazy evaluation\n",
    "```\n",
    "\n",
    "---\n",
    "\n",
    "## ✅ 4. Great for Functional Style\n",
    "\n",
    "Pairs well with `lambda` and other functional tools:\n",
    "\n",
    "```python\n",
    "data = [\"1\", \"2\", \"3\"]\n",
    "nums = list(map(int, data))  # Converts strings to integers\n",
    "```\n",
    "\n",
    "---\n",
    "\n",
    "## ⚠️ Things to Keep in Mind\n",
    "\n",
    "- `map()` can reduce readability for complex logic.\n",
    "- It returns an **iterator** in Python 3+, so use `list()` or loop to extract results.\n",
    "\n",
    "---"
   ],
   "id": "7ba246e1d7254109"
  },
  {
   "metadata": {
    "ExecuteTime": {
     "end_time": "2025-04-15T13:01:30.611575Z",
     "start_time": "2025-04-15T13:01:30.607002Z"
    }
   },
   "cell_type": "code",
   "source": [
    "numbers = [1, 2, 3]\n",
    "squared_numbers = map(lambda x: x**2, numbers)\n",
    "list(squared_numbers)"
   ],
   "id": "b61ba722d2455adc",
   "outputs": [
    {
     "data": {
      "text/plain": [
       "[1, 4, 9]"
      ]
     },
     "execution_count": 1,
     "metadata": {},
     "output_type": "execute_result"
    }
   ],
   "execution_count": 1
  },
  {
   "metadata": {
    "ExecuteTime": {
     "end_time": "2025-04-15T13:04:10.668360Z",
     "start_time": "2025-04-15T13:04:10.664862Z"
    }
   },
   "cell_type": "code",
   "source": [
    "# Map multiple iterables\n",
    "numbers1 = [1, 2, 3]\n",
    "numbers2 = [4, 5, 6]\n",
    "\n",
    "added_numbers = map(lambda x,y: x + y, numbers1, numbers2)\n",
    "list(added_numbers)"
   ],
   "id": "bb277a336cd48132",
   "outputs": [
    {
     "data": {
      "text/plain": [
       "[5, 7, 9]"
      ]
     },
     "execution_count": 2,
     "metadata": {},
     "output_type": "execute_result"
    }
   ],
   "execution_count": 2
  },
  {
   "metadata": {
    "ExecuteTime": {
     "end_time": "2025-04-15T13:05:45.901210Z",
     "start_time": "2025-04-15T13:05:45.896653Z"
    }
   },
   "cell_type": "code",
   "source": [
    "# Map to convert a list of strings to integers\n",
    "string_numbers = [\"1\", \"2\", \"3\"]\n",
    "int_numbers = map(int, string_numbers)\n",
    "list(int_numbers)"
   ],
   "id": "bf53f06743dbae3",
   "outputs": [
    {
     "data": {
      "text/plain": [
       "[1, 2, 3]"
      ]
     },
     "execution_count": 3,
     "metadata": {},
     "output_type": "execute_result"
    }
   ],
   "execution_count": 3
  },
  {
   "metadata": {
    "ExecuteTime": {
     "end_time": "2025-04-15T13:07:56.062478Z",
     "start_time": "2025-04-15T13:07:56.059977Z"
    }
   },
   "cell_type": "code",
   "source": [
    "words = [\"apple\", \"banana\", \"cherry\"]\n",
    "# Convert to uppercase\n",
    "uppercase_words = map(str.upper, words)\n",
    "list(uppercase_words)"
   ],
   "id": "852564b26f0eb63",
   "outputs": [
    {
     "data": {
      "text/plain": [
       "['APPLE', 'BANANA', 'CHERRY']"
      ]
     },
     "execution_count": 4,
     "metadata": {},
     "output_type": "execute_result"
    }
   ],
   "execution_count": 4
  },
  {
   "metadata": {
    "ExecuteTime": {
     "end_time": "2025-04-15T13:10:42.940383Z",
     "start_time": "2025-04-15T13:10:42.935926Z"
    }
   },
   "cell_type": "code",
   "source": [
    "def get_name(person):\n",
    "    return person[\"name\"]\n",
    "\n",
    "people = [\n",
    "    {\"name\": \"Alice\", \"age\": 30},\n",
    "    {\"name\": \"Bob\", \"age\": 25},\n",
    "    {\"name\": \"Charlie\", \"age\": 35}\n",
    "    ]\n",
    "\n",
    "names = map(lambda x: x[\"name\"], people)\n",
    "list(names)\n"
   ],
   "id": "1c1c98dc78f31a6f",
   "outputs": [
    {
     "data": {
      "text/plain": [
       "['Alice', 'Bob', 'Charlie']"
      ]
     },
     "execution_count": 6,
     "metadata": {},
     "output_type": "execute_result"
    }
   ],
   "execution_count": 6
  },
  {
   "metadata": {},
   "cell_type": "code",
   "outputs": [],
   "execution_count": null,
   "source": "",
   "id": "890522dd7658014c"
  }
 ],
 "metadata": {
  "kernelspec": {
   "display_name": "Python 3",
   "language": "python",
   "name": "python3"
  },
  "language_info": {
   "codemirror_mode": {
    "name": "ipython",
    "version": 2
   },
   "file_extension": ".py",
   "mimetype": "text/x-python",
   "name": "python",
   "nbconvert_exporter": "python",
   "pygments_lexer": "ipython2",
   "version": "2.7.6"
  }
 },
 "nbformat": 4,
 "nbformat_minor": 5
}
